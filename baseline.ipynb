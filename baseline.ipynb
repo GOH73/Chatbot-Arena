{
 "metadata": {
  "kernelspec": {
   "language": "python",
   "display_name": "Python 3",
   "name": "python3"
  },
  "language_info": {
   "name": "python",
   "version": "3.10.13",
   "mimetype": "text/x-python",
   "codemirror_mode": {
    "name": "ipython",
    "version": 3
   },
   "pygments_lexer": "ipython3",
   "nbconvert_exporter": "python",
   "file_extension": ".py"
  },
  "kaggle": {
   "accelerator": "nvidiaTeslaT4",
   "dataSources": [
    {
     "sourceId": 8712654,
     "sourceType": "datasetVersion",
     "datasetId": 5226896
    }
   ],
   "dockerImageVersionId": 30733,
   "isInternetEnabled": true,
   "language": "python",
   "sourceType": "notebook",
   "isGpuEnabled": true
  }
 },
 "nbformat_minor": 4,
 "nbformat": 4,
 "cells": [
  {
   "cell_type": "code",
   "source": [
    "# ====================================================\n",
    "# Directory settings\n",
    "# ====================================================\n",
    "import os\n",
    "\n",
    "OUTPUT_DIR = './'\n",
    "if not os.path.exists(OUTPUT_DIR):\n",
    "    os.makedirs(OUTPUT_DIR)\n"
   ],
   "metadata": {
    "_uuid": "8f2839f25d086af736a60e9eeb907d3b93b6e0e5",
    "_cell_guid": "b1076dfc-b9ad-4769-8c92-a6c4dae69d19",
    "execution": {
     "iopub.status.busy": "2024-06-17T13:26:12.045109Z",
     "iopub.execute_input": "2024-06-17T13:26:12.045552Z",
     "iopub.status.idle": "2024-06-17T13:26:12.050503Z",
     "shell.execute_reply.started": "2024-06-17T13:26:12.045522Z",
     "shell.execute_reply": "2024-06-17T13:26:12.049542Z"
    },
    "trusted": true
   },
   "execution_count": 6,
   "outputs": []
  },
  {
   "cell_type": "code",
   "source": [
    "!nvidia-smi"
   ],
   "metadata": {
    "execution": {
     "iopub.status.busy": "2024-06-17T13:26:12.051982Z",
     "iopub.execute_input": "2024-06-17T13:26:12.052276Z",
     "iopub.status.idle": "2024-06-17T13:26:13.095460Z",
     "shell.execute_reply.started": "2024-06-17T13:26:12.052253Z",
     "shell.execute_reply": "2024-06-17T13:26:13.094503Z"
    },
    "trusted": true
   },
   "execution_count": 7,
   "outputs": [
    {
     "name": "stdout",
     "text": "Mon Jun 17 13:26:12 2024       \n+---------------------------------------------------------------------------------------+\n| NVIDIA-SMI 535.129.03             Driver Version: 535.129.03   CUDA Version: 12.2     |\n|-----------------------------------------+----------------------+----------------------+\n| GPU  Name                 Persistence-M | Bus-Id        Disp.A | Volatile Uncorr. ECC |\n| Fan  Temp   Perf          Pwr:Usage/Cap |         Memory-Usage | GPU-Util  Compute M. |\n|                                         |                      |               MIG M. |\n|=========================================+======================+======================|\n|   0  Tesla T4                       Off | 00000000:00:04.0 Off |                    0 |\n| N/A   41C    P8              12W /  70W |      3MiB / 15360MiB |      0%      Default |\n|                                         |                      |                  N/A |\n+-----------------------------------------+----------------------+----------------------+\n|   1  Tesla T4                       Off | 00000000:00:05.0 Off |                    0 |\n| N/A   39C    P8               9W /  70W |      3MiB / 15360MiB |      0%      Default |\n|                                         |                      |                  N/A |\n+-----------------------------------------+----------------------+----------------------+\n                                                                                         \n+---------------------------------------------------------------------------------------+\n| Processes:                                                                            |\n|  GPU   GI   CI        PID   Type   Process name                            GPU Memory |\n|        ID   ID                                                             Usage      |\n|=======================================================================================|\n|  No running processes found                                                           |\n+---------------------------------------------------------------------------------------+\n",
     "output_type": "stream"
    }
   ]
  },
  {
   "cell_type": "code",
   "source": [
    "# ====================================================\n",
    "# CFG\n",
    "# ====================================================\n",
    "class CFG:\n",
    "    wandb=False\n",
    "    competition='LMSYS'\n",
    "    _wandb_kernel='test'\n",
    "    debug=True\n",
    "    apex=True\n",
    "    print_freq=20\n",
    "    num_workers=4\n",
    "    model=\"microsoft/deberta-v3-xsmall\" # [\"microsoft/deberta-v3-small, microsoft/deberta-v3-base\"]\n",
    "    gradient_checkpointing=True\n",
    "    scheduler='cosine' # ['linear', 'cosine']\n",
    "    batch_scheduler=True\n",
    "    num_cycles=0.5\n",
    "    num_warmup_steps=0\n",
    "    epochs=4\n",
    "    encoder_lr=2e-5\n",
    "    decoder_lr=2e-5\n",
    "    min_lr=1e-5\n",
    "    eps=1e-6\n",
    "    betas=(0.9, 0.999)\n",
    "    batch_size=4\n",
    "    max_len=1024\n",
    "    weight_decay=0.01\n",
    "    gradient_accumulation_steps=1\n",
    "    max_grad_norm=1000\n",
    "    target_label=['target']\n",
    "    target_cols=['winner_model_a', 'winner_model_b', 'winner_tie']\n",
    "    seed=42\n",
    "    n_fold=4\n",
    "    trn_fold=[0, 1, 2, 3]\n",
    "    train=True\n",
    "    \n",
    "if CFG.debug:\n",
    "    CFG.epochs = 2\n",
    "    CFG.trn_fold = [0, 1]"
   ],
   "metadata": {
    "execution": {
     "iopub.status.busy": "2024-06-17T13:26:13.097667Z",
     "iopub.execute_input": "2024-06-17T13:26:13.098050Z",
     "iopub.status.idle": "2024-06-17T13:26:13.106362Z",
     "shell.execute_reply.started": "2024-06-17T13:26:13.098011Z",
     "shell.execute_reply": "2024-06-17T13:26:13.105345Z"
    },
    "trusted": true
   },
   "execution_count": 8,
   "outputs": []
  },
  {
   "cell_type": "code",
   "source": [
    "# ====================================================\n",
    "# Library\n",
    "# ====================================================\n",
    "import os\n",
    "import gc\n",
    "import re\n",
    "import ast\n",
    "import sys\n",
    "import copy\n",
    "import json\n",
    "import time\n",
    "import math\n",
    "import string\n",
    "import pickle\n",
    "import random\n",
    "import joblib\n",
    "import itertools\n",
    "import warnings\n",
    "warnings.filterwarnings(\"ignore\")\n",
    "\n",
    "import scipy as sp\n",
    "import numpy as np\n",
    "import pandas as pd\n",
    "import matplotlib.pyplot as plt\n",
    "pd.set_option('display.max_rows', 500)\n",
    "pd.set_option('display.max_columns', 500)\n",
    "pd.set_option('display.width', 1000)\n",
    "from tqdm.auto import tqdm\n",
    "from sklearn.metrics import log_loss\n",
    "from sklearn.model_selection import StratifiedKFold, GroupKFold, KFold\n",
    "\n",
    "import torch\n",
    "import torch.nn as nn\n",
    "from torch.nn import Parameter\n",
    "import torch.nn.functional as F\n",
    "from torch.optim import Adam, SGD, AdamW\n",
    "from torch.utils.data import DataLoader, Dataset\n",
    "\n",
    "os.system('python -m pip install --no-index --find-links=../input/lmsys-pip-wheels transformers')\n",
    "os.system('python -m pip install --no-index --find-links=../input/lmsys-pip-wheels tokenizers')\n",
    "\n",
    "import tokenizers\n",
    "import transformers\n",
    "print(f\"tokenizers.__version__: {tokenizers.__version__}\")\n",
    "print(f\"transformers.__version__: {transformers.__version__}\")\n",
    "from transformers import AutoTokenizer, AutoModel, AutoConfig\n",
    "from transformers import get_linear_schedule_with_warmup, get_cosine_schedule_with_warmup\n",
    "%env TOKENIZERS_PARALLELISM=true\n",
    "\n",
    "device = torch.device('cuda' if torch.cuda.is_available() else 'cpu')"
   ],
   "metadata": {
    "execution": {
     "iopub.status.busy": "2024-06-17T13:26:13.108599Z",
     "iopub.execute_input": "2024-06-17T13:26:13.109015Z",
     "iopub.status.idle": "2024-06-17T13:26:35.340180Z",
     "shell.execute_reply.started": "2024-06-17T13:26:13.108984Z",
     "shell.execute_reply": "2024-06-17T13:26:35.339237Z"
    },
    "trusted": true
   },
   "execution_count": 9,
   "outputs": [
    {
     "name": "stdout",
     "text": "Looking in links: ../input/lmsys-pip-wheels\nRequirement already satisfied: transformers in /opt/conda/lib/python3.10/site-packages (4.41.2)\nRequirement already satisfied: filelock in /opt/conda/lib/python3.10/site-packages (from transformers) (3.13.1)\nRequirement already satisfied: huggingface-hub<1.0,>=0.23.0 in /opt/conda/lib/python3.10/site-packages (from transformers) (0.23.2)\nRequirement already satisfied: numpy>=1.17 in /opt/conda/lib/python3.10/site-packages (from transformers) (1.26.4)\nRequirement already satisfied: packaging>=20.0 in /opt/conda/lib/python3.10/site-packages (from transformers) (21.3)\nRequirement already satisfied: pyyaml>=5.1 in /opt/conda/lib/python3.10/site-packages (from transformers) (6.0.1)\nRequirement already satisfied: regex!=2019.12.17 in /opt/conda/lib/python3.10/site-packages (from transformers) (2023.12.25)\nRequirement already satisfied: requests in /opt/conda/lib/python3.10/site-packages (from transformers) (2.32.3)\nRequirement already satisfied: tokenizers<0.20,>=0.19 in /opt/conda/lib/python3.10/site-packages (from transformers) (0.19.1)\nRequirement already satisfied: safetensors>=0.4.1 in /opt/conda/lib/python3.10/site-packages (from transformers) (0.4.3)\nRequirement already satisfied: tqdm>=4.27 in /opt/conda/lib/python3.10/site-packages (from transformers) (4.66.4)\nRequirement already satisfied: fsspec>=2023.5.0 in /opt/conda/lib/python3.10/site-packages (from huggingface-hub<1.0,>=0.23.0->transformers) (2024.3.1)\nRequirement already satisfied: typing-extensions>=3.7.4.3 in /opt/conda/lib/python3.10/site-packages (from huggingface-hub<1.0,>=0.23.0->transformers) (4.9.0)\nRequirement already satisfied: pyparsing!=3.0.5,>=2.0.2 in /opt/conda/lib/python3.10/site-packages (from packaging>=20.0->transformers) (3.1.1)\nRequirement already satisfied: charset-normalizer<4,>=2 in /opt/conda/lib/python3.10/site-packages (from requests->transformers) (3.3.2)\nRequirement already satisfied: idna<4,>=2.5 in /opt/conda/lib/python3.10/site-packages (from requests->transformers) (3.6)\nRequirement already satisfied: urllib3<3,>=1.21.1 in /opt/conda/lib/python3.10/site-packages (from requests->transformers) (1.26.18)\nRequirement already satisfied: certifi>=2017.4.17 in /opt/conda/lib/python3.10/site-packages (from requests->transformers) (2024.2.2)\nLooking in links: ../input/lmsys-pip-wheels\nRequirement already satisfied: tokenizers in /opt/conda/lib/python3.10/site-packages (0.19.1)\nRequirement already satisfied: huggingface-hub<1.0,>=0.16.4 in /opt/conda/lib/python3.10/site-packages (from tokenizers) (0.23.2)\nRequirement already satisfied: filelock in /opt/conda/lib/python3.10/site-packages (from huggingface-hub<1.0,>=0.16.4->tokenizers) (3.13.1)\nRequirement already satisfied: fsspec>=2023.5.0 in /opt/conda/lib/python3.10/site-packages (from huggingface-hub<1.0,>=0.16.4->tokenizers) (2024.3.1)\nRequirement already satisfied: packaging>=20.9 in /opt/conda/lib/python3.10/site-packages (from huggingface-hub<1.0,>=0.16.4->tokenizers) (21.3)\nRequirement already satisfied: pyyaml>=5.1 in /opt/conda/lib/python3.10/site-packages (from huggingface-hub<1.0,>=0.16.4->tokenizers) (6.0.1)\nRequirement already satisfied: requests in /opt/conda/lib/python3.10/site-packages (from huggingface-hub<1.0,>=0.16.4->tokenizers) (2.32.3)\nRequirement already satisfied: tqdm>=4.42.1 in /opt/conda/lib/python3.10/site-packages (from huggingface-hub<1.0,>=0.16.4->tokenizers) (4.66.4)\nRequirement already satisfied: typing-extensions>=3.7.4.3 in /opt/conda/lib/python3.10/site-packages (from huggingface-hub<1.0,>=0.16.4->tokenizers) (4.9.0)\nRequirement already satisfied: pyparsing!=3.0.5,>=2.0.2 in /opt/conda/lib/python3.10/site-packages (from packaging>=20.9->huggingface-hub<1.0,>=0.16.4->tokenizers) (3.1.1)\nRequirement already satisfied: charset-normalizer<4,>=2 in /opt/conda/lib/python3.10/site-packages (from requests->huggingface-hub<1.0,>=0.16.4->tokenizers) (3.3.2)\nRequirement already satisfied: idna<4,>=2.5 in /opt/conda/lib/python3.10/site-packages (from requests->huggingface-hub<1.0,>=0.16.4->tokenizers) (3.6)\nRequirement already satisfied: urllib3<3,>=1.21.1 in /opt/conda/lib/python3.10/site-packages (from requests->huggingface-hub<1.0,>=0.16.4->tokenizers) (1.26.18)\nRequirement already satisfied: certifi>=2017.4.17 in /opt/conda/lib/python3.10/site-packages (from requests->huggingface-hub<1.0,>=0.16.4->tokenizers) (2024.2.2)\ntokenizers.__version__: 0.19.1\ntransformers.__version__: 4.41.2\nenv: TOKENIZERS_PARALLELISM=true\n",
     "output_type": "stream"
    }
   ]
  },
  {
   "cell_type": "code",
   "source": [
    "# ====================================================\n",
    "# Utils\n",
    "# ====================================================\n",
    "def get_score(y_trues, y_preds):\n",
    "    score = log_loss(y_trues, y_preds, labels=[0, 1, 2])\n",
    "    return score\n",
    "\n",
    "\n",
    "def get_logger(filename=OUTPUT_DIR+'train'):\n",
    "    from logging import getLogger, INFO, StreamHandler, FileHandler, Formatter\n",
    "    logger = getLogger(__name__)\n",
    "    logger.setLevel(INFO)\n",
    "    handler1 = StreamHandler()\n",
    "    handler1.setFormatter(Formatter(\"%(message)s\"))\n",
    "    handler2 = FileHandler(filename=f\"{filename}.log\")\n",
    "    handler2.setFormatter(Formatter(\"%(message)s\"))\n",
    "    logger.addHandler(handler1)\n",
    "    logger.addHandler(handler2)\n",
    "    return logger\n",
    "\n",
    "LOGGER = get_logger()\n",
    "\n",
    "\n",
    "def seed_everything(seed=42):\n",
    "    random.seed(seed)\n",
    "    os.environ['PYTHONHASHSEED'] = str(seed)\n",
    "    np.random.seed(seed)\n",
    "    torch.manual_seed(seed)\n",
    "    torch.cuda.manual_seed(seed)\n",
    "    torch.backends.cudnn.deterministic = True\n",
    "    \n",
    "seed_everything(seed=CFG.seed)"
   ],
   "metadata": {
    "execution": {
     "iopub.status.busy": "2024-06-17T13:26:35.341388Z",
     "iopub.execute_input": "2024-06-17T13:26:35.341678Z",
     "iopub.status.idle": "2024-06-17T13:26:35.353765Z",
     "shell.execute_reply.started": "2024-06-17T13:26:35.341653Z",
     "shell.execute_reply": "2024-06-17T13:26:35.352892Z"
    },
    "trusted": true
   },
   "execution_count": 10,
   "outputs": []
  },
  {
   "cell_type": "code",
   "source": [
    "# ====================================================\n",
    "# Data Loading\n",
    "# ====================================================\n",
    "train = pd.read_csv('/kaggle/input/dataset/train.csv')\n",
    "test = pd.read_csv('/kaggle/input/dataset/test.csv')\n",
    "submission = pd.read_csv('/kaggle/input/dataset/sample_submission.csv')\n",
    "\n",
    "print(f\"train.shape: {train.shape}\")\n",
    "display(train.head())\n",
    "print(f\"test.shape: {test.shape}\")\n",
    "display(test.head())\n",
    "print(f\"submission.shape: {submission.shape}\")\n",
    "display(submission.head())"
   ],
   "metadata": {
    "execution": {
     "iopub.status.busy": "2024-06-17T13:36:00.266474Z",
     "iopub.execute_input": "2024-06-17T13:36:00.266850Z",
     "iopub.status.idle": "2024-06-17T13:36:03.389739Z",
     "shell.execute_reply.started": "2024-06-17T13:36:00.266822Z",
     "shell.execute_reply": "2024-06-17T13:36:03.388897Z"
    },
    "trusted": true
   },
   "execution_count": 15,
   "outputs": [
    {
     "name": "stdout",
     "text": "train.shape: (57477, 9)\n",
     "output_type": "stream"
    },
    {
     "output_type": "display_data",
     "data": {
      "text/plain": "       id             model_a              model_b                                             prompt                                         response_a                                         response_b  winner_model_a  winner_model_b  winner_tie\n0   30192  gpt-4-1106-preview           gpt-4-0613  [\"Is it morally right to try to have a certain...  [\"The question of whether it is morally right ...  [\"As an AI, I don't have personal beliefs or o...               1               0           0\n1   53567           koala-13b           gpt-4-0613  [\"What is the difference between marriage lice...  [\"A marriage license is a legal document that ...  [\"A marriage license and a marriage certificat...               0               1           0\n2   65089  gpt-3.5-turbo-0613       mistral-medium  [\"explain function calling. how would you call...  [\"Function calling is the process of invoking ...  [\"Function calling is the process of invoking ...               0               0           1\n3   96401    llama-2-13b-chat  mistral-7b-instruct  [\"How can I create a test set for a very rare ...  [\"Creating a test set for a very rare category...  [\"When building a classifier for a very rare c...               1               0           0\n4  198779           koala-13b   gpt-3.5-turbo-0314  [\"What is the best way to travel from Tel-Aviv...  [\"The best way to travel from Tel Aviv to Jeru...  [\"The best way to travel from Tel-Aviv to Jeru...               0               1           0",
      "text/html": "<div>\n<style scoped>\n    .dataframe tbody tr th:only-of-type {\n        vertical-align: middle;\n    }\n\n    .dataframe tbody tr th {\n        vertical-align: top;\n    }\n\n    .dataframe thead th {\n        text-align: right;\n    }\n</style>\n<table border=\"1\" class=\"dataframe\">\n  <thead>\n    <tr style=\"text-align: right;\">\n      <th></th>\n      <th>id</th>\n      <th>model_a</th>\n      <th>model_b</th>\n      <th>prompt</th>\n      <th>response_a</th>\n      <th>response_b</th>\n      <th>winner_model_a</th>\n      <th>winner_model_b</th>\n      <th>winner_tie</th>\n    </tr>\n  </thead>\n  <tbody>\n    <tr>\n      <th>0</th>\n      <td>30192</td>\n      <td>gpt-4-1106-preview</td>\n      <td>gpt-4-0613</td>\n      <td>[\"Is it morally right to try to have a certain...</td>\n      <td>[\"The question of whether it is morally right ...</td>\n      <td>[\"As an AI, I don't have personal beliefs or o...</td>\n      <td>1</td>\n      <td>0</td>\n      <td>0</td>\n    </tr>\n    <tr>\n      <th>1</th>\n      <td>53567</td>\n      <td>koala-13b</td>\n      <td>gpt-4-0613</td>\n      <td>[\"What is the difference between marriage lice...</td>\n      <td>[\"A marriage license is a legal document that ...</td>\n      <td>[\"A marriage license and a marriage certificat...</td>\n      <td>0</td>\n      <td>1</td>\n      <td>0</td>\n    </tr>\n    <tr>\n      <th>2</th>\n      <td>65089</td>\n      <td>gpt-3.5-turbo-0613</td>\n      <td>mistral-medium</td>\n      <td>[\"explain function calling. how would you call...</td>\n      <td>[\"Function calling is the process of invoking ...</td>\n      <td>[\"Function calling is the process of invoking ...</td>\n      <td>0</td>\n      <td>0</td>\n      <td>1</td>\n    </tr>\n    <tr>\n      <th>3</th>\n      <td>96401</td>\n      <td>llama-2-13b-chat</td>\n      <td>mistral-7b-instruct</td>\n      <td>[\"How can I create a test set for a very rare ...</td>\n      <td>[\"Creating a test set for a very rare category...</td>\n      <td>[\"When building a classifier for a very rare c...</td>\n      <td>1</td>\n      <td>0</td>\n      <td>0</td>\n    </tr>\n    <tr>\n      <th>4</th>\n      <td>198779</td>\n      <td>koala-13b</td>\n      <td>gpt-3.5-turbo-0314</td>\n      <td>[\"What is the best way to travel from Tel-Aviv...</td>\n      <td>[\"The best way to travel from Tel Aviv to Jeru...</td>\n      <td>[\"The best way to travel from Tel-Aviv to Jeru...</td>\n      <td>0</td>\n      <td>1</td>\n      <td>0</td>\n    </tr>\n  </tbody>\n</table>\n</div>"
     },
     "metadata": {}
    },
    {
     "name": "stdout",
     "text": "test.shape: (3, 4)\n",
     "output_type": "stream"
    },
    {
     "output_type": "display_data",
     "data": {
      "text/plain": "        id                                             prompt                                         response_a                                         response_b\n0   136060  [\"I have three oranges today, I ate an orange ...                    [\"You have two oranges today.\"]  [\"You still have three oranges. Eating an oran...\n1   211333  [\"You are a mediator in a heated political deb...  [\"Thank you for sharing the details of the sit...  [\"Mr Reddy and Ms Blue both have valid points ...\n2  1233961  [\"How to initialize the classification head wh...  [\"When you want to initialize the classificati...  [\"To initialize the classification head when p...",
      "text/html": "<div>\n<style scoped>\n    .dataframe tbody tr th:only-of-type {\n        vertical-align: middle;\n    }\n\n    .dataframe tbody tr th {\n        vertical-align: top;\n    }\n\n    .dataframe thead th {\n        text-align: right;\n    }\n</style>\n<table border=\"1\" class=\"dataframe\">\n  <thead>\n    <tr style=\"text-align: right;\">\n      <th></th>\n      <th>id</th>\n      <th>prompt</th>\n      <th>response_a</th>\n      <th>response_b</th>\n    </tr>\n  </thead>\n  <tbody>\n    <tr>\n      <th>0</th>\n      <td>136060</td>\n      <td>[\"I have three oranges today, I ate an orange ...</td>\n      <td>[\"You have two oranges today.\"]</td>\n      <td>[\"You still have three oranges. Eating an oran...</td>\n    </tr>\n    <tr>\n      <th>1</th>\n      <td>211333</td>\n      <td>[\"You are a mediator in a heated political deb...</td>\n      <td>[\"Thank you for sharing the details of the sit...</td>\n      <td>[\"Mr Reddy and Ms Blue both have valid points ...</td>\n    </tr>\n    <tr>\n      <th>2</th>\n      <td>1233961</td>\n      <td>[\"How to initialize the classification head wh...</td>\n      <td>[\"When you want to initialize the classificati...</td>\n      <td>[\"To initialize the classification head when p...</td>\n    </tr>\n  </tbody>\n</table>\n</div>"
     },
     "metadata": {}
    },
    {
     "name": "stdout",
     "text": "submission.shape: (3, 4)\n",
     "output_type": "stream"
    },
    {
     "output_type": "display_data",
     "data": {
      "text/plain": "        id  winner_model_a  winner_model_b  winner_tie\n0   136060        0.333333        0.333333    0.333333\n1   211333        0.333333        0.333333    0.333333\n2  1233961        0.333333        0.333333    0.333333",
      "text/html": "<div>\n<style scoped>\n    .dataframe tbody tr th:only-of-type {\n        vertical-align: middle;\n    }\n\n    .dataframe tbody tr th {\n        vertical-align: top;\n    }\n\n    .dataframe thead th {\n        text-align: right;\n    }\n</style>\n<table border=\"1\" class=\"dataframe\">\n  <thead>\n    <tr style=\"text-align: right;\">\n      <th></th>\n      <th>id</th>\n      <th>winner_model_a</th>\n      <th>winner_model_b</th>\n      <th>winner_tie</th>\n    </tr>\n  </thead>\n  <tbody>\n    <tr>\n      <th>0</th>\n      <td>136060</td>\n      <td>0.333333</td>\n      <td>0.333333</td>\n      <td>0.333333</td>\n    </tr>\n    <tr>\n      <th>1</th>\n      <td>211333</td>\n      <td>0.333333</td>\n      <td>0.333333</td>\n      <td>0.333333</td>\n    </tr>\n    <tr>\n      <th>2</th>\n      <td>1233961</td>\n      <td>0.333333</td>\n      <td>0.333333</td>\n      <td>0.333333</td>\n    </tr>\n  </tbody>\n</table>\n</div>"
     },
     "metadata": {}
    }
   ]
  },
  {
   "cell_type": "code",
   "source": [
    "# =====================================\n",
    "# We will add targets in dataframs\n",
    "# =====================================\n",
    "def add_label(df):\n",
    "    labels = np.zeros(len(df), dtype=np.int32)\n",
    "    labels[df['winner_model_a'] == 1] = 0\n",
    "    labels[df['winner_model_b'] == 1] = 1\n",
    "    labels[df['winner_tie'] == 1] = 2\n",
    "    df['target'] = labels\n",
    "    return df\n",
    "\n",
    "\n",
    "def add_stats(df):\n",
    "    # Some stats\n",
    "    df[\"prompt_words\"] = df[\"prompt\"].apply(lambda x: x.replace('\\n', ' ').split(\" \"))\n",
    "    df[\"total_prompt_words\"] = df[\"prompt\"].apply(lambda x: len(x.split(\" \")))\n",
    "    df[\"prompt_length\"] = df[\"prompt\"].apply(lambda x: len(x))\n",
    "\n",
    "    df[\"response_a_words\"] = df[\"response_a\"].apply(lambda x: x.replace('\\n', ' ').split(\" \"))\n",
    "    df[\"total_response_a_words\"] = df[\"response_a\"].apply(lambda x: len(x.split(\" \")))\n",
    "    df[\"response_a_length\"] = df[\"response_a\"].apply(lambda x: len(x))\n",
    "\n",
    "    df[\"response_b_words\"] = df[\"response_b\"].apply(lambda x: x.replace('\\n', ' ').split(\" \"))\n",
    "    df[\"total_response_b_words\"] = df[\"response_b\"].apply(lambda x: len(x.split(\" \")))\n",
    "    df[\"response_b_length\"] = df[\"response_b\"].apply(lambda x: len(x))\n",
    "    \n",
    "    return df"
   ],
   "metadata": {
    "execution": {
     "iopub.status.busy": "2024-06-17T13:36:56.075710Z",
     "iopub.execute_input": "2024-06-17T13:36:56.076041Z",
     "iopub.status.idle": "2024-06-17T13:36:56.087059Z",
     "shell.execute_reply.started": "2024-06-17T13:36:56.076017Z",
     "shell.execute_reply": "2024-06-17T13:36:56.086085Z"
    },
    "trusted": true
   },
   "execution_count": 17,
   "outputs": []
  },
  {
   "cell_type": "code",
   "source": [
    "add_label(train).head(5)"
   ],
   "metadata": {
    "execution": {
     "iopub.status.busy": "2024-06-17T13:37:05.812771Z",
     "iopub.execute_input": "2024-06-17T13:37:05.813125Z",
     "iopub.status.idle": "2024-06-17T13:37:05.830103Z",
     "shell.execute_reply.started": "2024-06-17T13:37:05.813097Z",
     "shell.execute_reply": "2024-06-17T13:37:05.829234Z"
    },
    "trusted": true
   },
   "execution_count": 18,
   "outputs": [
    {
     "execution_count": 18,
     "output_type": "execute_result",
     "data": {
      "text/plain": "       id             model_a              model_b                                             prompt                                         response_a                                         response_b  winner_model_a  winner_model_b  winner_tie  target\n0   30192  gpt-4-1106-preview           gpt-4-0613  [\"Is it morally right to try to have a certain...  [\"The question of whether it is morally right ...  [\"As an AI, I don't have personal beliefs or o...               1               0           0       0\n1   53567           koala-13b           gpt-4-0613  [\"What is the difference between marriage lice...  [\"A marriage license is a legal document that ...  [\"A marriage license and a marriage certificat...               0               1           0       1\n2   65089  gpt-3.5-turbo-0613       mistral-medium  [\"explain function calling. how would you call...  [\"Function calling is the process of invoking ...  [\"Function calling is the process of invoking ...               0               0           1       2\n3   96401    llama-2-13b-chat  mistral-7b-instruct  [\"How can I create a test set for a very rare ...  [\"Creating a test set for a very rare category...  [\"When building a classifier for a very rare c...               1               0           0       0\n4  198779           koala-13b   gpt-3.5-turbo-0314  [\"What is the best way to travel from Tel-Aviv...  [\"The best way to travel from Tel Aviv to Jeru...  [\"The best way to travel from Tel-Aviv to Jeru...               0               1           0       1",
      "text/html": "<div>\n<style scoped>\n    .dataframe tbody tr th:only-of-type {\n        vertical-align: middle;\n    }\n\n    .dataframe tbody tr th {\n        vertical-align: top;\n    }\n\n    .dataframe thead th {\n        text-align: right;\n    }\n</style>\n<table border=\"1\" class=\"dataframe\">\n  <thead>\n    <tr style=\"text-align: right;\">\n      <th></th>\n      <th>id</th>\n      <th>model_a</th>\n      <th>model_b</th>\n      <th>prompt</th>\n      <th>response_a</th>\n      <th>response_b</th>\n      <th>winner_model_a</th>\n      <th>winner_model_b</th>\n      <th>winner_tie</th>\n      <th>target</th>\n    </tr>\n  </thead>\n  <tbody>\n    <tr>\n      <th>0</th>\n      <td>30192</td>\n      <td>gpt-4-1106-preview</td>\n      <td>gpt-4-0613</td>\n      <td>[\"Is it morally right to try to have a certain...</td>\n      <td>[\"The question of whether it is morally right ...</td>\n      <td>[\"As an AI, I don't have personal beliefs or o...</td>\n      <td>1</td>\n      <td>0</td>\n      <td>0</td>\n      <td>0</td>\n    </tr>\n    <tr>\n      <th>1</th>\n      <td>53567</td>\n      <td>koala-13b</td>\n      <td>gpt-4-0613</td>\n      <td>[\"What is the difference between marriage lice...</td>\n      <td>[\"A marriage license is a legal document that ...</td>\n      <td>[\"A marriage license and a marriage certificat...</td>\n      <td>0</td>\n      <td>1</td>\n      <td>0</td>\n      <td>1</td>\n    </tr>\n    <tr>\n      <th>2</th>\n      <td>65089</td>\n      <td>gpt-3.5-turbo-0613</td>\n      <td>mistral-medium</td>\n      <td>[\"explain function calling. how would you call...</td>\n      <td>[\"Function calling is the process of invoking ...</td>\n      <td>[\"Function calling is the process of invoking ...</td>\n      <td>0</td>\n      <td>0</td>\n      <td>1</td>\n      <td>2</td>\n    </tr>\n    <tr>\n      <th>3</th>\n      <td>96401</td>\n      <td>llama-2-13b-chat</td>\n      <td>mistral-7b-instruct</td>\n      <td>[\"How can I create a test set for a very rare ...</td>\n      <td>[\"Creating a test set for a very rare category...</td>\n      <td>[\"When building a classifier for a very rare c...</td>\n      <td>1</td>\n      <td>0</td>\n      <td>0</td>\n      <td>0</td>\n    </tr>\n    <tr>\n      <th>4</th>\n      <td>198779</td>\n      <td>koala-13b</td>\n      <td>gpt-3.5-turbo-0314</td>\n      <td>[\"What is the best way to travel from Tel-Aviv...</td>\n      <td>[\"The best way to travel from Tel Aviv to Jeru...</td>\n      <td>[\"The best way to travel from Tel-Aviv to Jeru...</td>\n      <td>0</td>\n      <td>1</td>\n      <td>0</td>\n      <td>1</td>\n    </tr>\n  </tbody>\n</table>\n</div>"
     },
     "metadata": {}
    }
   ]
  },
  {
   "cell_type": "code",
   "source": [
    "add_stats(train).head(5)"
   ],
   "metadata": {
    "execution": {
     "iopub.status.busy": "2024-06-17T13:37:31.410876Z",
     "iopub.execute_input": "2024-06-17T13:37:31.411498Z",
     "iopub.status.idle": "2024-06-17T13:37:37.273745Z",
     "shell.execute_reply.started": "2024-06-17T13:37:31.411465Z",
     "shell.execute_reply": "2024-06-17T13:37:37.272902Z"
    },
    "trusted": true
   },
   "execution_count": 19,
   "outputs": [
    {
     "execution_count": 19,
     "output_type": "execute_result",
     "data": {
      "text/plain": "       id             model_a              model_b                                             prompt                                         response_a                                         response_b  winner_model_a  winner_model_b  winner_tie  target                                       prompt_words  total_prompt_words  prompt_length                                   response_a_words  total_response_a_words  response_a_length                                   response_b_words  total_response_b_words  response_b_length\n0   30192  gpt-4-1106-preview           gpt-4-0613  [\"Is it morally right to try to have a certain...  [\"The question of whether it is morally right ...  [\"As an AI, I don't have personal beliefs or o...               1               0           0       0  [[\"Is, it, morally, right, to, try, to, have, ...                  28            165  [[\"The, question, of, whether, it, is, morally...                     656               4538  [[\"As, an, AI,, I, don't, have, personal, beli...                     204               1206\n1   53567           koala-13b           gpt-4-0613  [\"What is the difference between marriage lice...  [\"A marriage license is a legal document that ...  [\"A marriage license and a marriage certificat...               0               1           0       1  [[\"What, is, the, difference, between, marriag...                  35            200  [[\"A, marriage, license, is, a, legal, documen...                     537               3114  [[\"A, marriage, license, and, a, marriage, cer...                     591               3649\n2   65089  gpt-3.5-turbo-0613       mistral-medium  [\"explain function calling. how would you call...  [\"Function calling is the process of invoking ...  [\"Function calling is the process of invoking ...               0               0           1       2  [[\"explain, function, calling., how, would, yo...                   9             60  [[\"Function, calling, is, the, process, of, in...                     141                921  [[\"Function, calling, is, the, process, of, in...                     282               1835\n3   96401    llama-2-13b-chat  mistral-7b-instruct  [\"How can I create a test set for a very rare ...  [\"Creating a test set for a very rare category...  [\"When building a classifier for a very rare c...               1               0           0       0  [[\"How, can, I, create, a, test, set, for, a, ...                  18             87  [[\"Creating, a, test, set, for, a, very, rare,...                     536               3182  [[\"When, building, a, classifier, for, a, very...                     265               1562\n4  198779           koala-13b   gpt-3.5-turbo-0314  [\"What is the best way to travel from Tel-Aviv...  [\"The best way to travel from Tel Aviv to Jeru...  [\"The best way to travel from Tel-Aviv to Jeru...               0               1           0       1  [[\"What, is, the, best, way, to, travel, from,...                  14             79  [[\"The, best, way, to, travel, from, Tel, Aviv...                     236               1300  [[\"The, best, way, to, travel, from, Tel-Aviv,...                     122                772",
      "text/html": "<div>\n<style scoped>\n    .dataframe tbody tr th:only-of-type {\n        vertical-align: middle;\n    }\n\n    .dataframe tbody tr th {\n        vertical-align: top;\n    }\n\n    .dataframe thead th {\n        text-align: right;\n    }\n</style>\n<table border=\"1\" class=\"dataframe\">\n  <thead>\n    <tr style=\"text-align: right;\">\n      <th></th>\n      <th>id</th>\n      <th>model_a</th>\n      <th>model_b</th>\n      <th>prompt</th>\n      <th>response_a</th>\n      <th>response_b</th>\n      <th>winner_model_a</th>\n      <th>winner_model_b</th>\n      <th>winner_tie</th>\n      <th>target</th>\n      <th>prompt_words</th>\n      <th>total_prompt_words</th>\n      <th>prompt_length</th>\n      <th>response_a_words</th>\n      <th>total_response_a_words</th>\n      <th>response_a_length</th>\n      <th>response_b_words</th>\n      <th>total_response_b_words</th>\n      <th>response_b_length</th>\n    </tr>\n  </thead>\n  <tbody>\n    <tr>\n      <th>0</th>\n      <td>30192</td>\n      <td>gpt-4-1106-preview</td>\n      <td>gpt-4-0613</td>\n      <td>[\"Is it morally right to try to have a certain...</td>\n      <td>[\"The question of whether it is morally right ...</td>\n      <td>[\"As an AI, I don't have personal beliefs or o...</td>\n      <td>1</td>\n      <td>0</td>\n      <td>0</td>\n      <td>0</td>\n      <td>[[\"Is, it, morally, right, to, try, to, have, ...</td>\n      <td>28</td>\n      <td>165</td>\n      <td>[[\"The, question, of, whether, it, is, morally...</td>\n      <td>656</td>\n      <td>4538</td>\n      <td>[[\"As, an, AI,, I, don't, have, personal, beli...</td>\n      <td>204</td>\n      <td>1206</td>\n    </tr>\n    <tr>\n      <th>1</th>\n      <td>53567</td>\n      <td>koala-13b</td>\n      <td>gpt-4-0613</td>\n      <td>[\"What is the difference between marriage lice...</td>\n      <td>[\"A marriage license is a legal document that ...</td>\n      <td>[\"A marriage license and a marriage certificat...</td>\n      <td>0</td>\n      <td>1</td>\n      <td>0</td>\n      <td>1</td>\n      <td>[[\"What, is, the, difference, between, marriag...</td>\n      <td>35</td>\n      <td>200</td>\n      <td>[[\"A, marriage, license, is, a, legal, documen...</td>\n      <td>537</td>\n      <td>3114</td>\n      <td>[[\"A, marriage, license, and, a, marriage, cer...</td>\n      <td>591</td>\n      <td>3649</td>\n    </tr>\n    <tr>\n      <th>2</th>\n      <td>65089</td>\n      <td>gpt-3.5-turbo-0613</td>\n      <td>mistral-medium</td>\n      <td>[\"explain function calling. how would you call...</td>\n      <td>[\"Function calling is the process of invoking ...</td>\n      <td>[\"Function calling is the process of invoking ...</td>\n      <td>0</td>\n      <td>0</td>\n      <td>1</td>\n      <td>2</td>\n      <td>[[\"explain, function, calling., how, would, yo...</td>\n      <td>9</td>\n      <td>60</td>\n      <td>[[\"Function, calling, is, the, process, of, in...</td>\n      <td>141</td>\n      <td>921</td>\n      <td>[[\"Function, calling, is, the, process, of, in...</td>\n      <td>282</td>\n      <td>1835</td>\n    </tr>\n    <tr>\n      <th>3</th>\n      <td>96401</td>\n      <td>llama-2-13b-chat</td>\n      <td>mistral-7b-instruct</td>\n      <td>[\"How can I create a test set for a very rare ...</td>\n      <td>[\"Creating a test set for a very rare category...</td>\n      <td>[\"When building a classifier for a very rare c...</td>\n      <td>1</td>\n      <td>0</td>\n      <td>0</td>\n      <td>0</td>\n      <td>[[\"How, can, I, create, a, test, set, for, a, ...</td>\n      <td>18</td>\n      <td>87</td>\n      <td>[[\"Creating, a, test, set, for, a, very, rare,...</td>\n      <td>536</td>\n      <td>3182</td>\n      <td>[[\"When, building, a, classifier, for, a, very...</td>\n      <td>265</td>\n      <td>1562</td>\n    </tr>\n    <tr>\n      <th>4</th>\n      <td>198779</td>\n      <td>koala-13b</td>\n      <td>gpt-3.5-turbo-0314</td>\n      <td>[\"What is the best way to travel from Tel-Aviv...</td>\n      <td>[\"The best way to travel from Tel Aviv to Jeru...</td>\n      <td>[\"The best way to travel from Tel-Aviv to Jeru...</td>\n      <td>0</td>\n      <td>1</td>\n      <td>0</td>\n      <td>1</td>\n      <td>[[\"What, is, the, best, way, to, travel, from,...</td>\n      <td>14</td>\n      <td>79</td>\n      <td>[[\"The, best, way, to, travel, from, Tel, Aviv...</td>\n      <td>236</td>\n      <td>1300</td>\n      <td>[[\"The, best, way, to, travel, from, Tel-Aviv,...</td>\n      <td>122</td>\n      <td>772</td>\n    </tr>\n  </tbody>\n</table>\n</div>"
     },
     "metadata": {}
    }
   ]
  },
  {
   "cell_type": "code",
   "source": [
    "train[['prompt_words', 'total_prompt_words', 'prompt_length']]"
   ],
   "metadata": {
    "execution": {
     "iopub.status.busy": "2024-06-17T13:37:57.719038Z",
     "iopub.execute_input": "2024-06-17T13:37:57.719528Z",
     "iopub.status.idle": "2024-06-17T13:37:57.746049Z",
     "shell.execute_reply.started": "2024-06-17T13:37:57.719491Z",
     "shell.execute_reply": "2024-06-17T13:37:57.745242Z"
    },
    "trusted": true
   },
   "execution_count": 20,
   "outputs": [
    {
     "execution_count": 20,
     "output_type": "execute_result",
     "data": {
      "text/plain": "                                            prompt_words  total_prompt_words  prompt_length\n0      [[\"Is, it, morally, right, to, try, to, have, ...                  28            165\n1      [[\"What, is, the, difference, between, marriag...                  35            200\n2      [[\"explain, function, calling., how, would, yo...                   9             60\n3      [[\"How, can, I, create, a, test, set, for, a, ...                  18             87\n4      [[\"What, is, the, best, way, to, travel, from,...                  14             79\n...                                                  ...                 ...            ...\n57472  [[\"A, simple, mnemonic, for, \\u03c0:\\n\\\"How, I...                  26            157\n57473  [[\"In, python,, implement, a, naive, Bayes, wi...                  40            257\n57474  [[\"is, it, unethical, to, work, on, building, ...                  43            273\n57475  [[\"If, a, bait, contains, 0,0025%, bromadiolon...                  20            110\n57476  [[\"three, kids, eat, three, apples, in, three,...                  18             95\n\n[57477 rows x 3 columns]",
      "text/html": "<div>\n<style scoped>\n    .dataframe tbody tr th:only-of-type {\n        vertical-align: middle;\n    }\n\n    .dataframe tbody tr th {\n        vertical-align: top;\n    }\n\n    .dataframe thead th {\n        text-align: right;\n    }\n</style>\n<table border=\"1\" class=\"dataframe\">\n  <thead>\n    <tr style=\"text-align: right;\">\n      <th></th>\n      <th>prompt_words</th>\n      <th>total_prompt_words</th>\n      <th>prompt_length</th>\n    </tr>\n  </thead>\n  <tbody>\n    <tr>\n      <th>0</th>\n      <td>[[\"Is, it, morally, right, to, try, to, have, ...</td>\n      <td>28</td>\n      <td>165</td>\n    </tr>\n    <tr>\n      <th>1</th>\n      <td>[[\"What, is, the, difference, between, marriag...</td>\n      <td>35</td>\n      <td>200</td>\n    </tr>\n    <tr>\n      <th>2</th>\n      <td>[[\"explain, function, calling., how, would, yo...</td>\n      <td>9</td>\n      <td>60</td>\n    </tr>\n    <tr>\n      <th>3</th>\n      <td>[[\"How, can, I, create, a, test, set, for, a, ...</td>\n      <td>18</td>\n      <td>87</td>\n    </tr>\n    <tr>\n      <th>4</th>\n      <td>[[\"What, is, the, best, way, to, travel, from,...</td>\n      <td>14</td>\n      <td>79</td>\n    </tr>\n    <tr>\n      <th>...</th>\n      <td>...</td>\n      <td>...</td>\n      <td>...</td>\n    </tr>\n    <tr>\n      <th>57472</th>\n      <td>[[\"A, simple, mnemonic, for, \\u03c0:\\n\\\"How, I...</td>\n      <td>26</td>\n      <td>157</td>\n    </tr>\n    <tr>\n      <th>57473</th>\n      <td>[[\"In, python,, implement, a, naive, Bayes, wi...</td>\n      <td>40</td>\n      <td>257</td>\n    </tr>\n    <tr>\n      <th>57474</th>\n      <td>[[\"is, it, unethical, to, work, on, building, ...</td>\n      <td>43</td>\n      <td>273</td>\n    </tr>\n    <tr>\n      <th>57475</th>\n      <td>[[\"If, a, bait, contains, 0,0025%, bromadiolon...</td>\n      <td>20</td>\n      <td>110</td>\n    </tr>\n    <tr>\n      <th>57476</th>\n      <td>[[\"three, kids, eat, three, apples, in, three,...</td>\n      <td>18</td>\n      <td>95</td>\n    </tr>\n  </tbody>\n</table>\n<p>57477 rows × 3 columns</p>\n</div>"
     },
     "metadata": {}
    }
   ]
  },
  {
   "cell_type": "code",
   "source": [
    "train[['response_a_words', 'total_response_a_words', 'response_a_length']]"
   ],
   "metadata": {
    "execution": {
     "iopub.status.busy": "2024-06-17T13:38:19.264905Z",
     "iopub.execute_input": "2024-06-17T13:38:19.265238Z",
     "iopub.status.idle": "2024-06-17T13:38:19.290779Z",
     "shell.execute_reply.started": "2024-06-17T13:38:19.265213Z",
     "shell.execute_reply": "2024-06-17T13:38:19.289881Z"
    },
    "trusted": true
   },
   "execution_count": 21,
   "outputs": [
    {
     "execution_count": 21,
     "output_type": "execute_result",
     "data": {
      "text/plain": "                                        response_a_words  total_response_a_words  response_a_length\n0      [[\"The, question, of, whether, it, is, morally...                     656               4538\n1      [[\"A, marriage, license, is, a, legal, documen...                     537               3114\n2      [[\"Function, calling, is, the, process, of, in...                     141                921\n3      [[\"Creating, a, test, set, for, a, very, rare,...                     536               3182\n4      [[\"The, best, way, to, travel, from, Tel, Aviv...                     236               1300\n...                                                  ...                     ...                ...\n57472  [[\"Sure,, let's, break, it, down:\\n\\n1., \\\"How...                      60                396\n57473  [[\"Here, is, an, implementation, of, a, naive,...                     412               1707\n57474  [[\"Working, on, weapons, technology, raises, s...                    1228               8683\n57475  [[\"Bromadiolone, is, a, rodenticide, which, is...                      75                435\n57476                                   [[\"27, apples\"]]                       2                 13\n\n[57477 rows x 3 columns]",
      "text/html": "<div>\n<style scoped>\n    .dataframe tbody tr th:only-of-type {\n        vertical-align: middle;\n    }\n\n    .dataframe tbody tr th {\n        vertical-align: top;\n    }\n\n    .dataframe thead th {\n        text-align: right;\n    }\n</style>\n<table border=\"1\" class=\"dataframe\">\n  <thead>\n    <tr style=\"text-align: right;\">\n      <th></th>\n      <th>response_a_words</th>\n      <th>total_response_a_words</th>\n      <th>response_a_length</th>\n    </tr>\n  </thead>\n  <tbody>\n    <tr>\n      <th>0</th>\n      <td>[[\"The, question, of, whether, it, is, morally...</td>\n      <td>656</td>\n      <td>4538</td>\n    </tr>\n    <tr>\n      <th>1</th>\n      <td>[[\"A, marriage, license, is, a, legal, documen...</td>\n      <td>537</td>\n      <td>3114</td>\n    </tr>\n    <tr>\n      <th>2</th>\n      <td>[[\"Function, calling, is, the, process, of, in...</td>\n      <td>141</td>\n      <td>921</td>\n    </tr>\n    <tr>\n      <th>3</th>\n      <td>[[\"Creating, a, test, set, for, a, very, rare,...</td>\n      <td>536</td>\n      <td>3182</td>\n    </tr>\n    <tr>\n      <th>4</th>\n      <td>[[\"The, best, way, to, travel, from, Tel, Aviv...</td>\n      <td>236</td>\n      <td>1300</td>\n    </tr>\n    <tr>\n      <th>...</th>\n      <td>...</td>\n      <td>...</td>\n      <td>...</td>\n    </tr>\n    <tr>\n      <th>57472</th>\n      <td>[[\"Sure,, let's, break, it, down:\\n\\n1., \\\"How...</td>\n      <td>60</td>\n      <td>396</td>\n    </tr>\n    <tr>\n      <th>57473</th>\n      <td>[[\"Here, is, an, implementation, of, a, naive,...</td>\n      <td>412</td>\n      <td>1707</td>\n    </tr>\n    <tr>\n      <th>57474</th>\n      <td>[[\"Working, on, weapons, technology, raises, s...</td>\n      <td>1228</td>\n      <td>8683</td>\n    </tr>\n    <tr>\n      <th>57475</th>\n      <td>[[\"Bromadiolone, is, a, rodenticide, which, is...</td>\n      <td>75</td>\n      <td>435</td>\n    </tr>\n    <tr>\n      <th>57476</th>\n      <td>[[\"27, apples\"]]</td>\n      <td>2</td>\n      <td>13</td>\n    </tr>\n  </tbody>\n</table>\n<p>57477 rows × 3 columns</p>\n</div>"
     },
     "metadata": {}
    }
   ]
  },
  {
   "cell_type": "code",
   "source": [
    "train[['response_b_words', 'total_response_b_words', 'response_b_length']]"
   ],
   "metadata": {
    "execution": {
     "iopub.status.busy": "2024-06-17T13:38:29.710899Z",
     "iopub.execute_input": "2024-06-17T13:38:29.711279Z",
     "iopub.status.idle": "2024-06-17T13:38:29.739005Z",
     "shell.execute_reply.started": "2024-06-17T13:38:29.711248Z",
     "shell.execute_reply": "2024-06-17T13:38:29.738074Z"
    },
    "trusted": true
   },
   "execution_count": 22,
   "outputs": [
    {
     "execution_count": 22,
     "output_type": "execute_result",
     "data": {
      "text/plain": "                                        response_b_words  total_response_b_words  response_b_length\n0      [[\"As, an, AI,, I, don't, have, personal, beli...                     204               1206\n1      [[\"A, marriage, license, and, a, marriage, cer...                     591               3649\n2      [[\"Function, calling, is, the, process, of, in...                     282               1835\n3      [[\"When, building, a, classifier, for, a, very...                     265               1562\n4      [[\"The, best, way, to, travel, from, Tel-Aviv,...                     122                772\n...                                                  ...                     ...                ...\n57472  [[\"Here, is, how, that, mnemonic, represents, ...                      97                557\n57473  [[\"Sure!, Here's, an, implementation, of, a, n...                     381               1713\n57474  [[\"It, depends, on, the, context., Weapons, ca...                     254               1558\n57475  [[\"As, an, AI, language, model,, I, do, not, p...                     159                969\n57476  [[\"If, three, kids, eat, three, apples, in, th...                     105                526\n\n[57477 rows x 3 columns]",
      "text/html": "<div>\n<style scoped>\n    .dataframe tbody tr th:only-of-type {\n        vertical-align: middle;\n    }\n\n    .dataframe tbody tr th {\n        vertical-align: top;\n    }\n\n    .dataframe thead th {\n        text-align: right;\n    }\n</style>\n<table border=\"1\" class=\"dataframe\">\n  <thead>\n    <tr style=\"text-align: right;\">\n      <th></th>\n      <th>response_b_words</th>\n      <th>total_response_b_words</th>\n      <th>response_b_length</th>\n    </tr>\n  </thead>\n  <tbody>\n    <tr>\n      <th>0</th>\n      <td>[[\"As, an, AI,, I, don't, have, personal, beli...</td>\n      <td>204</td>\n      <td>1206</td>\n    </tr>\n    <tr>\n      <th>1</th>\n      <td>[[\"A, marriage, license, and, a, marriage, cer...</td>\n      <td>591</td>\n      <td>3649</td>\n    </tr>\n    <tr>\n      <th>2</th>\n      <td>[[\"Function, calling, is, the, process, of, in...</td>\n      <td>282</td>\n      <td>1835</td>\n    </tr>\n    <tr>\n      <th>3</th>\n      <td>[[\"When, building, a, classifier, for, a, very...</td>\n      <td>265</td>\n      <td>1562</td>\n    </tr>\n    <tr>\n      <th>4</th>\n      <td>[[\"The, best, way, to, travel, from, Tel-Aviv,...</td>\n      <td>122</td>\n      <td>772</td>\n    </tr>\n    <tr>\n      <th>...</th>\n      <td>...</td>\n      <td>...</td>\n      <td>...</td>\n    </tr>\n    <tr>\n      <th>57472</th>\n      <td>[[\"Here, is, how, that, mnemonic, represents, ...</td>\n      <td>97</td>\n      <td>557</td>\n    </tr>\n    <tr>\n      <th>57473</th>\n      <td>[[\"Sure!, Here's, an, implementation, of, a, n...</td>\n      <td>381</td>\n      <td>1713</td>\n    </tr>\n    <tr>\n      <th>57474</th>\n      <td>[[\"It, depends, on, the, context., Weapons, ca...</td>\n      <td>254</td>\n      <td>1558</td>\n    </tr>\n    <tr>\n      <th>57475</th>\n      <td>[[\"As, an, AI, language, model,, I, do, not, p...</td>\n      <td>159</td>\n      <td>969</td>\n    </tr>\n    <tr>\n      <th>57476</th>\n      <td>[[\"If, three, kids, eat, three, apples, in, th...</td>\n      <td>105</td>\n      <td>526</td>\n    </tr>\n  </tbody>\n</table>\n<p>57477 rows × 3 columns</p>\n</div>"
     },
     "metadata": {}
    }
   ]
  },
  {
   "cell_type": "code",
   "source": [
    "display(train['prompt'][57472])"
   ],
   "metadata": {
    "execution": {
     "iopub.status.busy": "2024-06-17T13:38:35.909843Z",
     "iopub.execute_input": "2024-06-17T13:38:35.910782Z",
     "iopub.status.idle": "2024-06-17T13:38:35.916864Z",
     "shell.execute_reply.started": "2024-06-17T13:38:35.910748Z",
     "shell.execute_reply": "2024-06-17T13:38:35.915811Z"
    },
    "trusted": true
   },
   "execution_count": 23,
   "outputs": [
    {
     "output_type": "display_data",
     "data": {
      "text/plain": "'[\"A simple mnemonic for \\\\u03c0:\\\\n\\\\\"How I wish I could enumerate pi easily\\\\\"\\\\n\\\\nThe number of letters in each word is a digit of \\\\u03c0.\\\\nShow this is true.\"]'"
     },
     "metadata": {}
    }
   ]
  },
  {
   "cell_type": "code",
   "source": [
    "train[['prompt', 'response_a', 'response_b', 'target']].head(5)"
   ],
   "metadata": {
    "execution": {
     "iopub.status.busy": "2024-06-17T13:38:46.833489Z",
     "iopub.execute_input": "2024-06-17T13:38:46.834403Z",
     "iopub.status.idle": "2024-06-17T13:38:46.851448Z",
     "shell.execute_reply.started": "2024-06-17T13:38:46.834360Z",
     "shell.execute_reply": "2024-06-17T13:38:46.850670Z"
    },
    "trusted": true
   },
   "execution_count": 24,
   "outputs": [
    {
     "execution_count": 24,
     "output_type": "execute_result",
     "data": {
      "text/plain": "                                              prompt                                         response_a                                         response_b  target\n0  [\"Is it morally right to try to have a certain...  [\"The question of whether it is morally right ...  [\"As an AI, I don't have personal beliefs or o...       0\n1  [\"What is the difference between marriage lice...  [\"A marriage license is a legal document that ...  [\"A marriage license and a marriage certificat...       1\n2  [\"explain function calling. how would you call...  [\"Function calling is the process of invoking ...  [\"Function calling is the process of invoking ...       2\n3  [\"How can I create a test set for a very rare ...  [\"Creating a test set for a very rare category...  [\"When building a classifier for a very rare c...       0\n4  [\"What is the best way to travel from Tel-Aviv...  [\"The best way to travel from Tel Aviv to Jeru...  [\"The best way to travel from Tel-Aviv to Jeru...       1",
      "text/html": "<div>\n<style scoped>\n    .dataframe tbody tr th:only-of-type {\n        vertical-align: middle;\n    }\n\n    .dataframe tbody tr th {\n        vertical-align: top;\n    }\n\n    .dataframe thead th {\n        text-align: right;\n    }\n</style>\n<table border=\"1\" class=\"dataframe\">\n  <thead>\n    <tr style=\"text-align: right;\">\n      <th></th>\n      <th>prompt</th>\n      <th>response_a</th>\n      <th>response_b</th>\n      <th>target</th>\n    </tr>\n  </thead>\n  <tbody>\n    <tr>\n      <th>0</th>\n      <td>[\"Is it morally right to try to have a certain...</td>\n      <td>[\"The question of whether it is morally right ...</td>\n      <td>[\"As an AI, I don't have personal beliefs or o...</td>\n      <td>0</td>\n    </tr>\n    <tr>\n      <th>1</th>\n      <td>[\"What is the difference between marriage lice...</td>\n      <td>[\"A marriage license is a legal document that ...</td>\n      <td>[\"A marriage license and a marriage certificat...</td>\n      <td>1</td>\n    </tr>\n    <tr>\n      <th>2</th>\n      <td>[\"explain function calling. how would you call...</td>\n      <td>[\"Function calling is the process of invoking ...</td>\n      <td>[\"Function calling is the process of invoking ...</td>\n      <td>2</td>\n    </tr>\n    <tr>\n      <th>3</th>\n      <td>[\"How can I create a test set for a very rare ...</td>\n      <td>[\"Creating a test set for a very rare category...</td>\n      <td>[\"When building a classifier for a very rare c...</td>\n      <td>0</td>\n    </tr>\n    <tr>\n      <th>4</th>\n      <td>[\"What is the best way to travel from Tel-Aviv...</td>\n      <td>[\"The best way to travel from Tel Aviv to Jeru...</td>\n      <td>[\"The best way to travel from Tel-Aviv to Jeru...</td>\n      <td>1</td>\n    </tr>\n  </tbody>\n</table>\n</div>"
     },
     "metadata": {}
    }
   ]
  },
  {
   "cell_type": "code",
   "source": [
    "# ====================================================\n",
    "# CV split\n",
    "# ====================================================\n",
    "Fold = StratifiedKFold(n_splits=CFG.n_fold, shuffle=True, random_state=CFG.seed)\n",
    "for n, (train_index, val_index) in enumerate(Fold.split(train, train[CFG.target_label])):\n",
    "    train.loc[val_index, 'fold'] = int(n)\n",
    "train['fold'] = train['fold'].astype(int)\n",
    "display(train.groupby('fold').size())"
   ],
   "metadata": {
    "execution": {
     "iopub.status.busy": "2024-06-17T13:38:55.716869Z",
     "iopub.execute_input": "2024-06-17T13:38:55.717309Z",
     "iopub.status.idle": "2024-06-17T13:38:55.827483Z",
     "shell.execute_reply.started": "2024-06-17T13:38:55.717281Z",
     "shell.execute_reply": "2024-06-17T13:38:55.826599Z"
    },
    "trusted": true
   },
   "execution_count": 25,
   "outputs": [
    {
     "output_type": "display_data",
     "data": {
      "text/plain": "fold\n0    14370\n1    14369\n2    14369\n3    14369\ndtype: int64"
     },
     "metadata": {}
    }
   ]
  },
  {
   "cell_type": "code",
   "source": [
    "if CFG.debug:\n",
    "    display(train.groupby('fold').size())\n",
    "    train = train.sample(n=1000, random_state=0).reset_index(drop=True)\n",
    "    display(train.groupby('fold').size())"
   ],
   "metadata": {
    "execution": {
     "iopub.status.busy": "2024-06-17T13:39:02.727756Z",
     "iopub.execute_input": "2024-06-17T13:39:02.728098Z",
     "iopub.status.idle": "2024-06-17T13:39:02.746507Z",
     "shell.execute_reply.started": "2024-06-17T13:39:02.728071Z",
     "shell.execute_reply": "2024-06-17T13:39:02.745761Z"
    },
    "trusted": true
   },
   "execution_count": 26,
   "outputs": [
    {
     "output_type": "display_data",
     "data": {
      "text/plain": "fold\n0    14370\n1    14369\n2    14369\n3    14369\ndtype: int64"
     },
     "metadata": {}
    },
    {
     "output_type": "display_data",
     "data": {
      "text/plain": "fold\n0    257\n1    249\n2    247\n3    247\ndtype: int64"
     },
     "metadata": {}
    }
   ]
  },
  {
   "cell_type": "code",
   "source": [
    "# ====================================================\n",
    "# tokenizer\n",
    "# ====================================================\n",
    "tokenizer = AutoTokenizer.from_pretrained(CFG.model)\n",
    "tokenizer.save_pretrained(OUTPUT_DIR+'tokenizer/')\n",
    "CFG.tokenizer = tokenizer"
   ],
   "metadata": {
    "execution": {
     "iopub.status.busy": "2024-06-17T13:39:10.193515Z",
     "iopub.execute_input": "2024-06-17T13:39:10.194312Z",
     "iopub.status.idle": "2024-06-17T13:39:12.533133Z",
     "shell.execute_reply.started": "2024-06-17T13:39:10.194280Z",
     "shell.execute_reply": "2024-06-17T13:39:12.532299Z"
    },
    "trusted": true
   },
   "execution_count": 27,
   "outputs": [
    {
     "output_type": "display_data",
     "data": {
      "text/plain": "tokenizer_config.json:   0%|          | 0.00/52.0 [00:00<?, ?B/s]",
      "application/vnd.jupyter.widget-view+json": {
       "version_major": 2,
       "version_minor": 0,
       "model_id": "e11f69a3c2b54faaaaa935a30c932e54"
      }
     },
     "metadata": {}
    },
    {
     "output_type": "display_data",
     "data": {
      "text/plain": "config.json:   0%|          | 0.00/578 [00:00<?, ?B/s]",
      "application/vnd.jupyter.widget-view+json": {
       "version_major": 2,
       "version_minor": 0,
       "model_id": "e18dfc7733b7424286996d970e5936e1"
      }
     },
     "metadata": {}
    },
    {
     "output_type": "display_data",
     "data": {
      "text/plain": "spm.model:   0%|          | 0.00/2.46M [00:00<?, ?B/s]",
      "application/vnd.jupyter.widget-view+json": {
       "version_major": 2,
       "version_minor": 0,
       "model_id": "0d3c6dbfad86400aaa80fb00e9b02320"
      }
     },
     "metadata": {}
    }
   ]
  },
  {
   "cell_type": "code",
   "source": [
    "# ====================================================\n",
    "# Check max length - prompt\n",
    "# ====================================================\n",
    "# CFG.max_len == 1024 is default in v3\n",
    "lengths = []\n",
    "tk0 = tqdm(train['prompt'].fillna(\"\").values, total=len(train))\n",
    "for text in tk0:\n",
    "    length = len(tokenizer(text, add_special_tokens=False)['input_ids'])\n",
    "    lengths.append(length)\n",
    "#CFG.max_len = max(lengths) + 3 # cls & sep & sep\n",
    "LOGGER.info(f\"max_len: {CFG.max_len}\")\n",
    "_ = plt.hist(lengths, bins=10)"
   ],
   "metadata": {
    "execution": {
     "iopub.status.busy": "2024-06-17T13:39:20.652273Z",
     "iopub.execute_input": "2024-06-17T13:39:20.652768Z",
     "iopub.status.idle": "2024-06-17T13:39:21.324093Z",
     "shell.execute_reply.started": "2024-06-17T13:39:20.652742Z",
     "shell.execute_reply": "2024-06-17T13:39:21.323154Z"
    },
    "trusted": true
   },
   "execution_count": 28,
   "outputs": [
    {
     "output_type": "display_data",
     "data": {
      "text/plain": "  0%|          | 0/1000 [00:00<?, ?it/s]",
      "application/vnd.jupyter.widget-view+json": {
       "version_major": 2,
       "version_minor": 0,
       "model_id": "23149ecc210f4d8d82042fd9cf144ecf"
      }
     },
     "metadata": {}
    },
    {
     "name": "stderr",
     "text": "max_len: 1024\n",
     "output_type": "stream"
    },
    {
     "output_type": "display_data",
     "data": {
      "text/plain": "<Figure size 640x480 with 1 Axes>",
      "image/png": "[encoded data removed]"
     },
     "metadata": {}
    }
   ]
  },
  {
   "cell_type": "code",
   "source": [
    "# ====================================================\n",
    "# Check max length - response_a\n",
    "# ====================================================\n",
    "lengths = []\n",
    "tk0 = tqdm(train['response_a'].fillna(\"\").values, total=len(train))\n",
    "for text in tk0:\n",
    "    length = len(tokenizer(text, add_special_tokens=False)['input_ids'])\n",
    "    lengths.append(length)\n",
    "#CFG.max_len = max(lengths) + 3 # cls & sep & sep\n",
    "LOGGER.info(f\"max_len: {CFG.max_len}\")\n",
    "_ = plt.hist(lengths, bins=10)"
   ],
   "metadata": {
    "execution": {
     "iopub.status.busy": "2024-06-17T13:39:32.195679Z",
     "iopub.execute_input": "2024-06-17T13:39:32.196005Z",
     "iopub.status.idle": "2024-06-17T13:39:33.609647Z",
     "shell.execute_reply.started": "2024-06-17T13:39:32.195980Z",
     "shell.execute_reply": "2024-06-17T13:39:33.608578Z"
    },
    "trusted": true
   },
   "execution_count": 29,
   "outputs": [
    {
     "output_type": "display_data",
     "data": {
      "text/plain": "  0%|          | 0/1000 [00:00<?, ?it/s]",
      "application/vnd.jupyter.widget-view+json": {
       "version_major": 2,
       "version_minor": 0,
       "model_id": "5ac18efa379847bca44ae1fe9889c132"
      }
     },
     "metadata": {}
    },
    {
     "name": "stderr",
     "text": "max_len: 1024\n",
     "output_type": "stream"
    },
    {
     "output_type": "display_data",
     "data": {
      "text/plain": "<Figure size 640x480 with 1 Axes>",
      "image/png": "[encoded data removed]"
     },
     "metadata": {}
    }
   ]
  },
  {
   "cell_type": "code",
   "source": [
    "# ====================================================\n",
    "# Check max length - response_b\n",
    "# ====================================================\n",
    "lengths = []\n",
    "tk0 = tqdm(train['response_b'].fillna(\"\").values, total=len(train))\n",
    "for text in tk0:\n",
    "    length = len(tokenizer(text, add_special_tokens=False)['input_ids'])\n",
    "    lengths.append(length)\n",
    "#CFG.max_len = max(lengths) + 3 # cls & sep & sep\n",
    "LOGGER.info(f\"max_len: {CFG.max_len}\")\n",
    "_ = plt.hist(lengths, bins=10)"
   ],
   "metadata": {
    "execution": {
     "iopub.status.busy": "2024-06-17T13:40:11.896659Z",
     "iopub.execute_input": "2024-06-17T13:40:11.897374Z",
     "iopub.status.idle": "2024-06-17T13:40:13.209923Z",
     "shell.execute_reply.started": "2024-06-17T13:40:11.897335Z",
     "shell.execute_reply": "2024-06-17T13:40:13.209052Z"
    },
    "trusted": true
   },
   "execution_count": 30,
   "outputs": [
    {
     "output_type": "display_data",
     "data": {
      "text/plain": "  0%|          | 0/1000 [00:00<?, ?it/s]",
      "application/vnd.jupyter.widget-view+json": {
       "version_major": 2,
       "version_minor": 0,
       "model_id": "f96a88aa7ca7442a9918e2d9d2fe26a5"
      }
     },
     "metadata": {}
    },
    {
     "name": "stderr",
     "text": "max_len: 1024\n",
     "output_type": "stream"
    },
    {
     "output_type": "display_data",
     "data": {
      "text/plain": "<Figure size 640x480 with 1 Axes>",
      "image/png": "[encoded data removed]"
     },
     "metadata": {}
    }
   ]
  },
  {
   "cell_type": "code",
   "source": [
    "# ====================================================\n",
    "# Dataset\n",
    "# ====================================================\n",
    "def prepare_input(cfg, text):\n",
    "    inputs = cfg.tokenizer.encode_plus(\n",
    "        text, \n",
    "        return_tensors=None, \n",
    "        add_special_tokens=True, \n",
    "        max_length=CFG.max_len,\n",
    "        pad_to_max_length=True,\n",
    "        truncation=True\n",
    "    )\n",
    "    for k, v in inputs.items():\n",
    "        inputs[k] = torch.tensor(v, dtype=torch.long)\n",
    "    return inputs\n",
    "\n",
    "\n",
    "class TrainDataset(Dataset):\n",
    "    def __init__(self, cfg, df):\n",
    "        self.cfg = cfg\n",
    "        self.texts = df['prompt'].values # only use prompt, please feel free add other texts\n",
    "        self.labels = df[cfg.target_label].values.squeeze().tolist()\n",
    "\n",
    "    def __len__(self):\n",
    "        return len(self.texts)\n",
    "\n",
    "    def __getitem__(self, item):\n",
    "        inputs = prepare_input(self.cfg, self.texts[item])\n",
    "        label = torch.tensor(self.labels[item], dtype=torch.long)\n",
    "        return inputs, label\n",
    "    \n",
    "    \n",
    "def collate(inputs):\n",
    "    mask_len = int(inputs[\"attention_mask\"].sum(axis=1).max())\n",
    "    for k, v in inputs.items():\n",
    "        inputs[k] = inputs[k][:,:mask_len]\n",
    "    return inputs"
   ],
   "metadata": {
    "execution": {
     "iopub.status.busy": "2024-06-17T13:40:28.703260Z",
     "iopub.execute_input": "2024-06-17T13:40:28.703805Z",
     "iopub.status.idle": "2024-06-17T13:40:28.717838Z",
     "shell.execute_reply.started": "2024-06-17T13:40:28.703757Z",
     "shell.execute_reply": "2024-06-17T13:40:28.716636Z"
    },
    "trusted": true
   },
   "execution_count": 31,
   "outputs": []
  },
  {
   "cell_type": "code",
   "source": [
    "# ====================================================\n",
    "# Model\n",
    "# ====================================================\n",
    "class MeanPooling(nn.Module):\n",
    "    def __init__(self):\n",
    "        super(MeanPooling, self).__init__()\n",
    "        \n",
    "    def forward(self, last_hidden_state, attention_mask):\n",
    "        input_mask_expanded = attention_mask.unsqueeze(-1).expand(last_hidden_state.size()).float()\n",
    "        sum_embeddings = torch.sum(last_hidden_state * input_mask_expanded, 1)\n",
    "        sum_mask = input_mask_expanded.sum(1)\n",
    "        sum_mask = torch.clamp(sum_mask, min=1e-9)\n",
    "        mean_embeddings = sum_embeddings / sum_mask\n",
    "        return mean_embeddings\n",
    "    \n",
    "\n",
    "class CustomModel(nn.Module):\n",
    "    def __init__(self, cfg, config_path=None, pretrained=False):\n",
    "        super().__init__()\n",
    "        self.cfg = cfg\n",
    "        if config_path is None:\n",
    "            self.config = AutoConfig.from_pretrained(cfg.model, output_hidden_states=True)\n",
    "            self.config.hidden_dropout = 0.\n",
    "            self.config.hidden_dropout_prob = 0.\n",
    "            self.config.attention_dropout = 0.\n",
    "            self.config.attention_probs_dropout_prob = 0.\n",
    "            LOGGER.info(self.config)\n",
    "        else:\n",
    "            self.config = torch.load(config_path)\n",
    "        if pretrained:\n",
    "            self.model = AutoModel.from_pretrained(cfg.model, config=self.config)\n",
    "        else:\n",
    "            self.model = AutoModel(self.config)\n",
    "        if self.cfg.gradient_checkpointing:\n",
    "            self.model.gradient_checkpointing_enable()\n",
    "        self.pool = MeanPooling()\n",
    "        self.fc = nn.Linear(self.config.hidden_size, 3)\n",
    "        self._init_weights(self.fc)\n",
    "        \n",
    "    def _init_weights(self, module):\n",
    "        if isinstance(module, nn.Linear):\n",
    "            module.weight.data.normal_(mean=0.0, std=self.config.initializer_range)\n",
    "            if module.bias is not None:\n",
    "                module.bias.data.zero_()\n",
    "        elif isinstance(module, nn.Embedding):\n",
    "            module.weight.data.normal_(mean=0.0, std=self.config.initializer_range)\n",
    "            if module.padding_idx is not None:\n",
    "                module.weight.data[module.padding_idx].zero_()\n",
    "        elif isinstance(module, nn.LayerNorm):\n",
    "            module.bias.data.zero_()\n",
    "            module.weight.data.fill_(1.0)\n",
    "        \n",
    "    def feature(self, inputs):\n",
    "        outputs = self.model(**inputs)\n",
    "        last_hidden_states = outputs[0]\n",
    "        feature = self.pool(last_hidden_states, inputs['attention_mask'])\n",
    "        return feature\n",
    "\n",
    "    def forward(self, inputs):\n",
    "        feature = self.feature(inputs)\n",
    "        output = self.fc(feature)\n",
    "        return output"
   ],
   "metadata": {
    "execution": {
     "iopub.status.busy": "2024-06-17T13:40:42.551837Z",
     "iopub.execute_input": "2024-06-17T13:40:42.552271Z",
     "iopub.status.idle": "2024-06-17T13:40:42.568145Z",
     "shell.execute_reply.started": "2024-06-17T13:40:42.552238Z",
     "shell.execute_reply": "2024-06-17T13:40:42.567112Z"
    },
    "trusted": true
   },
   "execution_count": 32,
   "outputs": []
  },
  {
   "cell_type": "code",
   "source": [
    "# ====================================================\n",
    "# Helper functions\n",
    "# ====================================================\n",
    "class AverageMeter(object):\n",
    "    \"\"\"Computes and stores the average and current value\"\"\"\n",
    "    def __init__(self):\n",
    "        self.reset()\n",
    "\n",
    "    def reset(self):\n",
    "        self.val = 0\n",
    "        self.avg = 0\n",
    "        self.sum = 0\n",
    "        self.count = 0\n",
    "\n",
    "    def update(self, val, n=1):\n",
    "        self.val = val\n",
    "        self.sum += val * n\n",
    "        self.count += n\n",
    "        self.avg = self.sum / self.count\n",
    "\n",
    "\n",
    "def asMinutes(s):\n",
    "    m = math.floor(s / 60)\n",
    "    s -= m * 60\n",
    "    return '%dm %ds' % (m, s)\n",
    "\n",
    "\n",
    "def timeSince(since, percent):\n",
    "    now = time.time()\n",
    "    s = now - since\n",
    "    es = s / (percent)\n",
    "    rs = es - s\n",
    "    return '%s (remain %s)' % (asMinutes(s), asMinutes(rs))\n",
    "\n",
    "\n",
    "def train_fn(fold, train_loader, model, criterion, optimizer, epoch, scheduler, device):\n",
    "    model.train()\n",
    "    scaler = torch.cuda.amp.GradScaler(enabled=CFG.apex)\n",
    "    losses = AverageMeter()\n",
    "    start = end = time.time()\n",
    "    global_step = 0\n",
    "    for step, (inputs, labels) in enumerate(train_loader):\n",
    "        inputs = collate(inputs)\n",
    "        for k, v in inputs.items():\n",
    "            inputs[k] = v.to(device)\n",
    "        labels = labels.to(device)\n",
    "        batch_size = labels.size(0)\n",
    "        with torch.cuda.amp.autocast(enabled=CFG.apex):\n",
    "            y_preds = model(inputs)\n",
    "            loss = criterion(y_preds, labels)\n",
    "        if CFG.gradient_accumulation_steps > 1:\n",
    "            loss = loss / CFG.gradient_accumulation_steps\n",
    "        losses.update(loss.item(), batch_size)\n",
    "        scaler.scale(loss).backward()\n",
    "        grad_norm = torch.nn.utils.clip_grad_norm_(model.parameters(), CFG.max_grad_norm)\n",
    "        if (step + 1) % CFG.gradient_accumulation_steps == 0:\n",
    "            scaler.step(optimizer)\n",
    "            scaler.update()\n",
    "            optimizer.zero_grad()\n",
    "            global_step += 1\n",
    "            if CFG.batch_scheduler:\n",
    "                scheduler.step()\n",
    "        end = time.time()\n",
    "        if step % CFG.print_freq == 0 or step == (len(train_loader)-1):\n",
    "            print('Epoch: [{0}][{1}/{2}] '\n",
    "                  'Elapsed {remain:s} '\n",
    "                  'Loss: {loss.val:.4f}({loss.avg:.4f}) '\n",
    "                  'Grad: {grad_norm:.4f}  '\n",
    "                  'LR: {lr:.8f}  '\n",
    "                  .format(epoch+1, step, len(train_loader), \n",
    "                          remain=timeSince(start, float(step+1)/len(train_loader)),\n",
    "                          loss=losses,\n",
    "                          grad_norm=grad_norm,\n",
    "                          lr=scheduler.get_lr()[0]))\n",
    "    return losses.avg\n",
    "\n",
    "\n",
    "def valid_fn(valid_loader, model, criterion, device):\n",
    "    losses = AverageMeter()\n",
    "    model.eval()\n",
    "    preds = []\n",
    "    start = end = time.time()\n",
    "    for step, (inputs, labels) in enumerate(valid_loader):\n",
    "        inputs = collate(inputs)\n",
    "        for k, v in inputs.items():\n",
    "            inputs[k] = v.to(device)\n",
    "        labels = labels.to(device)\n",
    "        batch_size = labels.size(0)\n",
    "        with torch.no_grad():\n",
    "            y_preds = model(inputs)\n",
    "            loss = criterion(y_preds, labels)\n",
    "        if CFG.gradient_accumulation_steps > 1:\n",
    "            loss = loss / CFG.gradient_accumulation_steps\n",
    "        losses.update(loss.item(), batch_size)\n",
    "        preds.append(y_preds.softmax(1).to('cpu').numpy())\n",
    "        end = time.time()\n",
    "        if step % CFG.print_freq == 0 or step == (len(valid_loader)-1):\n",
    "            print('EVAL: [{0}/{1}] '\n",
    "                  'Elapsed {remain:s} '\n",
    "                  'Loss: {loss.val:.4f}({loss.avg:.4f}) '\n",
    "                  .format(step, len(valid_loader),\n",
    "                          loss=losses,\n",
    "                          remain=timeSince(start, float(step+1)/len(valid_loader))))\n",
    "    predictions = np.concatenate(preds)\n",
    "    return losses.avg, predictions"
   ],
   "metadata": {
    "execution": {
     "iopub.status.busy": "2024-06-17T13:40:54.384485Z",
     "iopub.execute_input": "2024-06-17T13:40:54.384880Z",
     "iopub.status.idle": "2024-06-17T13:40:54.411301Z",
     "shell.execute_reply.started": "2024-06-17T13:40:54.384851Z",
     "shell.execute_reply": "2024-06-17T13:40:54.410038Z"
    },
    "trusted": true
   },
   "execution_count": 33,
   "outputs": []
  },
  {
   "cell_type": "code",
   "source": [
    "# ====================================================\n",
    "# train loop\n",
    "# ====================================================\n",
    "def train_loop(folds, fold):\n",
    "    \n",
    "    LOGGER.info(f\"========== fold: {fold} training ==========\")\n",
    "\n",
    "    # ====================================================\n",
    "    # loader\n",
    "    # ====================================================\n",
    "    train_folds = folds[folds['fold'] != fold].reset_index(drop=True)\n",
    "    valid_folds = folds[folds['fold'] == fold].reset_index(drop=True)\n",
    "    valid_labels = valid_folds[CFG.target_label].values\n",
    "    \n",
    "    train_dataset = TrainDataset(CFG, train_folds)\n",
    "    valid_dataset = TrainDataset(CFG, valid_folds)\n",
    "\n",
    "    train_loader = DataLoader(train_dataset,\n",
    "                              batch_size=CFG.batch_size,\n",
    "                              shuffle=True,\n",
    "                              num_workers=CFG.num_workers, pin_memory=True, drop_last=True)\n",
    "    valid_loader = DataLoader(valid_dataset,\n",
    "                              batch_size=CFG.batch_size * 2,\n",
    "                              shuffle=False,\n",
    "                              num_workers=CFG.num_workers, pin_memory=True, drop_last=False)\n",
    "\n",
    "    # ====================================================\n",
    "    # model & optimizer\n",
    "    # ====================================================\n",
    "    model = CustomModel(CFG, config_path=None, pretrained=True)\n",
    "    torch.save(model.config, OUTPUT_DIR+'config.pth')\n",
    "    model.to(device)\n",
    "    \n",
    "    def get_optimizer_params(model, encoder_lr, decoder_lr, weight_decay=0.0):\n",
    "        param_optimizer = list(model.named_parameters())\n",
    "        no_decay = [\"bias\", \"LayerNorm.bias\", \"LayerNorm.weight\"]\n",
    "        optimizer_parameters = [\n",
    "            {'params': [p for n, p in model.model.named_parameters() if not any(nd in n for nd in no_decay)],\n",
    "             'lr': encoder_lr, 'weight_decay': weight_decay},\n",
    "            {'params': [p for n, p in model.model.named_parameters() if any(nd in n for nd in no_decay)],\n",
    "             'lr': encoder_lr, 'weight_decay': 0.0},\n",
    "            {'params': [p for n, p in model.named_parameters() if \"model\" not in n],\n",
    "             'lr': decoder_lr, 'weight_decay': 0.0}\n",
    "        ]\n",
    "        return optimizer_parameters\n",
    "\n",
    "    optimizer_parameters = get_optimizer_params(model,\n",
    "                                                encoder_lr=CFG.encoder_lr, \n",
    "                                                decoder_lr=CFG.decoder_lr,\n",
    "                                                weight_decay=CFG.weight_decay)\n",
    "    optimizer = AdamW(optimizer_parameters, lr=CFG.encoder_lr, eps=CFG.eps, betas=CFG.betas)\n",
    "    \n",
    "    # ====================================================\n",
    "    # scheduler\n",
    "    # ====================================================\n",
    "    def get_scheduler(cfg, optimizer, num_train_steps):\n",
    "        if cfg.scheduler == 'linear':\n",
    "            scheduler = get_linear_schedule_with_warmup(\n",
    "                optimizer, num_warmup_steps=cfg.num_warmup_steps, num_training_steps=num_train_steps\n",
    "            )\n",
    "        elif cfg.scheduler == 'cosine':\n",
    "            scheduler = get_cosine_schedule_with_warmup(\n",
    "                optimizer, num_warmup_steps=cfg.num_warmup_steps, num_training_steps=num_train_steps, num_cycles=cfg.num_cycles\n",
    "            )\n",
    "        return scheduler\n",
    "    \n",
    "    num_train_steps = int(len(train_folds) / CFG.batch_size * CFG.epochs)\n",
    "    scheduler = get_scheduler(CFG, optimizer, num_train_steps)\n",
    "\n",
    "    # ====================================================\n",
    "    # loop\n",
    "    # ====================================================\n",
    "    criterion = nn.CrossEntropyLoss()\n",
    "    \n",
    "    best_score = np.inf\n",
    "\n",
    "    for epoch in range(CFG.epochs):\n",
    "\n",
    "        start_time = time.time()\n",
    "\n",
    "        # train\n",
    "        avg_loss = train_fn(fold, train_loader, model, criterion, optimizer, epoch, scheduler, device)\n",
    "\n",
    "        # eval\n",
    "        avg_val_loss, predictions = valid_fn(valid_loader, model, criterion, device)\n",
    "        \n",
    "        # scoring\n",
    "        score = get_score(valid_labels, predictions)\n",
    "\n",
    "        elapsed = time.time() - start_time\n",
    "\n",
    "        LOGGER.info(f'Epoch {epoch+1} - avg_train_loss: {avg_loss:.4f}  avg_val_loss: {avg_val_loss:.4f}  time: {elapsed:.0f}s')\n",
    "        LOGGER.info(f'Epoch {epoch+1} - Score: {score:.4f}')\n",
    "        if CFG.wandb:\n",
    "            wandb.log({f\"[fold{fold}] epoch\": epoch+1, \n",
    "                       f\"[fold{fold}] avg_train_loss\": avg_loss, \n",
    "                       f\"[fold{fold}] avg_val_loss\": avg_val_loss,\n",
    "                       f\"[fold{fold}] score\": score})\n",
    "        \n",
    "        if best_score > score:\n",
    "            best_score = score\n",
    "            LOGGER.info(f'Epoch {epoch+1} - Save Best Score: {best_score:.4f} Model')\n",
    "            torch.save({'model': model.state_dict(),\n",
    "                        'predictions': predictions},\n",
    "                        OUTPUT_DIR+f\"{CFG.model.replace('/', '-')}_fold{fold}_best.pth\")\n",
    "\n",
    "    predictions = torch.load(OUTPUT_DIR+f\"{CFG.model.replace('/', '-')}_fold{fold}_best.pth\", \n",
    "                             map_location=torch.device('cpu'))['predictions']\n",
    "    valid_folds[[f\"pred_{c}\" for c in CFG.target_cols]] = predictions\n",
    "\n",
    "    torch.cuda.empty_cache()\n",
    "    gc.collect()\n",
    "    \n",
    "    return valid_folds"
   ],
   "metadata": {
    "execution": {
     "iopub.status.busy": "2024-06-17T13:41:08.032777Z",
     "iopub.execute_input": "2024-06-17T13:41:08.033172Z",
     "iopub.status.idle": "2024-06-17T13:41:08.057465Z",
     "shell.execute_reply.started": "2024-06-17T13:41:08.033139Z",
     "shell.execute_reply": "2024-06-17T13:41:08.056312Z"
    },
    "trusted": true
   },
   "execution_count": 34,
   "outputs": []
  },
  {
   "cell_type": "code",
   "source": [
    "if __name__ == '__main__':\n",
    "    \n",
    "    def get_result(oof_df):\n",
    "        labels = oof_df[CFG.target_cols].values\n",
    "        labels = np.argmax(labels, axis=1)\n",
    "        preds = oof_df[[f\"pred_{c}\" for c in CFG.target_cols]].values\n",
    "        score = get_score(labels, preds)\n",
    "        LOGGER.info(f'Score: {score:<.4f}')\n",
    "    \n",
    "    if CFG.train:\n",
    "        oof_df = pd.DataFrame()\n",
    "        for fold in range(CFG.n_fold):\n",
    "            if fold in CFG.trn_fold:\n",
    "                _oof_df = train_loop(train, fold)\n",
    "                oof_df = pd.concat([oof_df, _oof_df])\n",
    "                LOGGER.info(f\"========== fold: {fold} result ==========\")\n",
    "                get_result(_oof_df)\n",
    "        oof_df = oof_df.reset_index(drop=True)\n",
    "        LOGGER.info(f\"========== CV ==========\")\n",
    "        get_result(oof_df)\n",
    "        oof_df.to_pickle(OUTPUT_DIR+'oof_df.pkl')\n",
    "        \n",
    "    if CFG.wandb:\n",
    "        wandb.finish()"
   ],
   "metadata": {
    "execution": {
     "iopub.status.busy": "2024-06-17T13:41:20.630268Z",
     "iopub.execute_input": "2024-06-17T13:41:20.630649Z"
    },
    "trusted": true
   },
   "execution_count": null,
   "outputs": [
    {
     "name": "stderr",
     "text": "========== fold: 0 training ==========\nDebertaV2Config {\n  \"_name_or_path\": \"microsoft/deberta-v3-xsmall\",\n  \"attention_dropout\": 0.0,\n  \"attention_probs_dropout_prob\": 0.0,\n  \"hidden_act\": \"gelu\",\n  \"hidden_dropout\": 0.0,\n  \"hidden_dropout_prob\": 0.0,\n  \"hidden_size\": 384,\n  \"initializer_range\": 0.02,\n  \"intermediate_size\": 1536,\n  \"layer_norm_eps\": 1e-07,\n  \"max_position_embeddings\": 512,\n  \"max_relative_positions\": -1,\n  \"model_type\": \"deberta-v2\",\n  \"norm_rel_ebd\": \"layer_norm\",\n  \"num_attention_heads\": 6,\n  \"num_hidden_layers\": 12,\n  \"output_hidden_states\": true,\n  \"pad_token_id\": 0,\n  \"pooler_dropout\": 0,\n  \"pooler_hidden_act\": \"gelu\",\n  \"pooler_hidden_size\": 384,\n  \"pos_att_type\": [\n    \"p2c\",\n    \"c2p\"\n  ],\n  \"position_biased_input\": false,\n  \"position_buckets\": 256,\n  \"relative_attention\": true,\n  \"share_att_key\": true,\n  \"transformers_version\": \"4.41.2\",\n  \"type_vocab_size\": 0,\n  \"vocab_size\": 128100\n}\n\n",
     "output_type": "stream"
    },
    {
     "output_type": "display_data",
     "data": {
      "text/plain": "pytorch_model.bin:   0%|          | 0.00/241M [00:00<?, ?B/s]",
      "application/vnd.jupyter.widget-view+json": {
       "version_major": 2,
       "version_minor": 0,
       "model_id": "a0aab63b890947aca8a06abe73e63e26"
      }
     },
     "metadata": {}
    },
    {
     "name": "stdout",
     "text": "Epoch: [1][0/185] Elapsed 0m 1s (remain 4m 55s) Loss: 1.1532(1.1532) Grad: inf  LR: 0.00002000  \nEpoch: [1][20/185] Elapsed 0m 4s (remain 0m 34s) Loss: 0.9724(1.1380) Grad: 37687.7734  LR: 0.00001984  \nEpoch: [1][40/185] Elapsed 0m 7s (remain 0m 26s) Loss: 1.1456(1.1208) Grad: 36224.8867  LR: 0.00001940  \n",
     "output_type": "stream"
    }
   ]
  },
  {
   "cell_type": "code",
   "source": [
    "kaggle kernels output piantic/train-lmsys-deberta-v3-starter-code -p /path/to/dest"
   ],
   "metadata": {
    "trusted": true
   },
   "execution_count": null,
   "outputs": []
  }
 ]
}
