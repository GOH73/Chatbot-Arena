{
 "cells": [
  {
   "cell_type": "code",
   "execution_count": 10,
   "metadata": {
    "_cell_guid": "b1076dfc-b9ad-4769-8c92-a6c4dae69d19",
    "_uuid": "8f2839f25d086af736a60e9eeb907d3b93b6e0e5",
    "execution": {
     "iopub.execute_input": "2024-06-17T13:26:12.045552Z",
     "iopub.status.busy": "2024-06-17T13:26:12.045109Z",
     "iopub.status.idle": "2024-06-17T13:26:12.050503Z",
     "shell.execute_reply": "2024-06-17T13:26:12.049542Z",
     "shell.execute_reply.started": "2024-06-17T13:26:12.045522Z"
    },
    "trusted": true,
    "ExecuteTime": {
     "end_time": "2024-06-21T14:51:52.967102400Z",
     "start_time": "2024-06-21T14:51:52.931594500Z"
    }
   },
   "outputs": [
    {
     "ename": "ModuleNotFoundError",
     "evalue": "No module named 'keras_nlp'",
     "output_type": "error",
     "traceback": [
      "\u001B[1;31m---------------------------------------------------------------------------\u001B[0m",
      "\u001B[1;31mModuleNotFoundError\u001B[0m                       Traceback (most recent call last)",
      "Cell \u001B[1;32mIn[10], line 4\u001B[0m\n\u001B[0;32m      1\u001B[0m \u001B[38;5;28;01mimport\u001B[39;00m \u001B[38;5;21;01mos\u001B[39;00m\n\u001B[0;32m      2\u001B[0m os\u001B[38;5;241m.\u001B[39menviron[\u001B[38;5;124m\"\u001B[39m\u001B[38;5;124mKERAS_BACKEND\u001B[39m\u001B[38;5;124m\"\u001B[39m] \u001B[38;5;241m=\u001B[39m \u001B[38;5;124m\"\u001B[39m\u001B[38;5;124mtorch\u001B[39m\u001B[38;5;124m\"\u001B[39m  \u001B[38;5;66;03m# or \"tensorflow\" or \"torch\"\u001B[39;00m\n\u001B[1;32m----> 4\u001B[0m \u001B[38;5;28;01mimport\u001B[39;00m \u001B[38;5;21;01mkeras_nlp\u001B[39;00m\n\u001B[0;32m      5\u001B[0m \u001B[38;5;28;01mimport\u001B[39;00m \u001B[38;5;21;01mkeras\u001B[39;00m\n\u001B[0;32m      6\u001B[0m \u001B[38;5;28;01mimport\u001B[39;00m \u001B[38;5;21;01mtensorflow\u001B[39;00m \u001B[38;5;28;01mas\u001B[39;00m \u001B[38;5;21;01mtf\u001B[39;00m\n",
      "\u001B[1;31mModuleNotFoundError\u001B[0m: No module named 'keras_nlp'"
     ]
    }
   ],
   "source": [
    "import os\n",
    "\n",
    "os.environ[\"KERAS_BACKEND\"] = \"torch\"  # or \"tensorflow\" or \"torch\"\n",
    "\n",
    "import keras_nlp\n",
    "import keras\n",
    "import tensorflow as tf\n",
    "\n",
    "import numpy as np\n",
    "import pandas as pd\n",
    "from tqdm import tqdm\n",
    "import json\n",
    "\n",
    "import matplotlib.pyplot as plt\n",
    "import matplotlib as mpl\n",
    "import plotly.express as px"
   ]
  },
  {
   "cell_type": "code",
   "execution_count": 2,
   "metadata": {
    "execution": {
     "iopub.execute_input": "2024-06-17T13:26:12.052276Z",
     "iopub.status.busy": "2024-06-17T13:26:12.051982Z",
     "iopub.status.idle": "2024-06-17T13:26:13.095460Z",
     "shell.execute_reply": "2024-06-17T13:26:13.094503Z",
     "shell.execute_reply.started": "2024-06-17T13:26:12.052253Z"
    },
    "trusted": true,
    "ExecuteTime": {
     "end_time": "2024-06-21T14:43:15.754254900Z",
     "start_time": "2024-06-21T14:43:15.679451100Z"
    }
   },
   "outputs": [
    {
     "ename": "NameError",
     "evalue": "name 'tf' is not defined",
     "output_type": "error",
     "traceback": [
      "\u001B[1;31m---------------------------------------------------------------------------\u001B[0m",
      "\u001B[1;31mNameError\u001B[0m                                 Traceback (most recent call last)",
      "Cell \u001B[1;32mIn[2], line 1\u001B[0m\n\u001B[1;32m----> 1\u001B[0m \u001B[38;5;28mprint\u001B[39m(\u001B[38;5;124m\"\u001B[39m\u001B[38;5;124mTensorFlow:\u001B[39m\u001B[38;5;124m\"\u001B[39m, \u001B[43mtf\u001B[49m\u001B[38;5;241m.\u001B[39m__version__)\n\u001B[0;32m      2\u001B[0m \u001B[38;5;28mprint\u001B[39m(\u001B[38;5;124m\"\u001B[39m\u001B[38;5;124mKeras:\u001B[39m\u001B[38;5;124m\"\u001B[39m, keras\u001B[38;5;241m.\u001B[39m__version__)\n\u001B[0;32m      3\u001B[0m \u001B[38;5;28mprint\u001B[39m(\u001B[38;5;124m\"\u001B[39m\u001B[38;5;124mKerasNLP:\u001B[39m\u001B[38;5;124m\"\u001B[39m, keras_nlp\u001B[38;5;241m.\u001B[39m__version__)\n",
      "\u001B[1;31mNameError\u001B[0m: name 'tf' is not defined"
     ]
    }
   ],
   "source": [
    "print(\"TensorFlow:\", tf.__version__)\n",
    "print(\"Keras:\", keras.__version__)\n",
    "print(\"KerasNLP:\", keras_nlp.__version__)"
   ]
  },
  {
   "cell_type": "code",
   "execution_count": 8,
   "metadata": {
    "execution": {
     "iopub.execute_input": "2024-06-17T13:26:13.098050Z",
     "iopub.status.busy": "2024-06-17T13:26:13.097667Z",
     "iopub.status.idle": "2024-06-17T13:26:13.106362Z",
     "shell.execute_reply": "2024-06-17T13:26:13.105345Z",
     "shell.execute_reply.started": "2024-06-17T13:26:13.098011Z"
    },
    "trusted": true
   },
   "outputs": [],
   "source": [
    "class CFG:\n",
    "    \"\"\"\n",
    "        随机种子，42 这个数字因为《银河系漫游指南》这本科幻小说而变得特别有名。\n",
    "        在小说中，42 被描述为“生命、宇宙以及一切的终极答案”。\n",
    "        由于这个原因，42 被广泛采用，成为一种“文化现象”或者一种内在的幽默，尤其在科技和编程社区中。\n",
    "    \"\"\"\n",
    "    seed = 42\n",
    "    preset = \"deberta_v3_extra_small_en\"  # 模型名称\n",
    "    sequence_length = 512  # 输入序列长度\n",
    "    epochs = 3\n",
    "    batch_size = 16\n",
    "    scheduler = 'cosine'  # 学习率调度器\n",
    "    label2name = {0: 'winner_model_a', 1: 'winner_model_b', 2: 'winner_tie'}\n",
    "    name2label = {v: k for k, v in label2name.items()}\n",
    "    class_labels = list(label2name.keys())\n",
    "    class_names = list(label2name.values())"
   ]
  },
  {
   "cell_type": "code",
   "execution_count": null,
   "metadata": {
    "execution": {
     "iopub.execute_input": "2024-06-17T13:26:13.109015Z",
     "iopub.status.busy": "2024-06-17T13:26:13.108599Z",
     "iopub.status.idle": "2024-06-17T13:26:35.340180Z",
     "shell.execute_reply": "2024-06-17T13:26:35.339237Z",
     "shell.execute_reply.started": "2024-06-17T13:26:13.108984Z"
    },
    "trusted": true
   },
   "outputs": [],
   "source": [
    "keras.utils.set_random_seed(CFG.seed)"
   ]
  },
  {
   "cell_type": "code",
   "execution_count": 10,
   "metadata": {
    "execution": {
     "iopub.execute_input": "2024-06-17T13:26:35.341678Z",
     "iopub.status.busy": "2024-06-17T13:26:35.341388Z",
     "iopub.status.idle": "2024-06-17T13:26:35.353765Z",
     "shell.execute_reply": "2024-06-17T13:26:35.352892Z",
     "shell.execute_reply.started": "2024-06-17T13:26:35.341653Z"
    },
    "trusted": true
   },
   "outputs": [],
   "source": [
    "keras.mixed_precision.set_global_policy(\"mixed_float16\")"
   ]
  },
  {
   "cell_type": "code",
   "execution_count": null,
   "metadata": {
    "execution": {
     "iopub.execute_input": "2024-06-17T13:36:00.266850Z",
     "iopub.status.busy": "2024-06-17T13:36:00.266474Z",
     "iopub.status.idle": "2024-06-17T13:36:03.389739Z",
     "shell.execute_reply": "2024-06-17T13:36:03.388897Z",
     "shell.execute_reply.started": "2024-06-17T13:36:00.266822Z"
    },
    "trusted": true
   },
   "outputs": [],
   "source": [
    "BASE_PATH = './lmsys-chatbot-arena'"
   ]
  },
  {
   "cell_type": "code",
   "execution_count": null,
   "outputs": [],
   "source": [
    "df = pd.read_csv(f'{BASE_PATH}/train.csv')\n",
    "\n",
    "model_indicators = ['gpt-4', 'gpt-3.5', 'mistral', 'llama', 'koala']\n",
    "\n",
    "# 定义一个函数来检测response中是否包含模型名称\n",
    "def contains_model_name(response):\n",
    "    for indicator in model_indicators:\n",
    "        if indicator.lower() in response.lower():\n",
    "            return True\n",
    "    return False\n",
    "\n",
    "# 过滤掉包含模型名称的行\n",
    "df_filtered = df[~df['response_a'].apply(contains_model_name) & ~df['response_b'].apply(contains_model_name)]\n",
    "\n",
    "# 显示过滤后的数据\n",
    "df_filtered.head()\n",
    "\n",
    "# 保存清洗后的数据\n",
    "df_filtered.to_csv('cleaned_train.csv', index=False)"
   ],
   "metadata": {
    "collapsed": false
   }
  },
  {
   "cell_type": "code",
   "execution_count": 17,
   "metadata": {
    "execution": {
     "iopub.execute_input": "2024-06-17T13:36:56.076041Z",
     "iopub.status.busy": "2024-06-17T13:36:56.075710Z",
     "iopub.status.idle": "2024-06-17T13:36:56.087059Z",
     "shell.execute_reply": "2024-06-17T13:36:56.086085Z",
     "shell.execute_reply.started": "2024-06-17T13:36:56.076017Z"
    },
    "trusted": true
   },
   "outputs": [],
   "source": [
    "df = pd.read_csv(f'{BASE_PATH}/cleaned_train.csv')\n",
    "\n",
    "# 获取第一个提示及其相关响应\n",
    "df[\"prompt\"] = df.prompt.map(lambda x: eval(x)[0])\n",
    "df[\"response_a\"] = df.response_a.map(lambda x: eval(x.replace(\"null\", \"''\"))[0])  # 若response为null，转为空字符串，否则会报错\n",
    "df[\"response_b\"] = df.response_b.map(lambda x: eval(x.replace(\"null\", \"''\"))[0])\n",
    "\n",
    "# 将值最大的列名（获胜的模型名）作为class_name\n",
    "df[\"class_name\"] = df[[\"winner_model_a\", \"winner_model_b\", \"winner_tie\"]].idxmax(axis=1)\n",
    "# 将模型名转为数字0，1，2\n",
    "df[\"class_label\"] = df.class_name.map(CFG.name2label)\n",
    "\n",
    "df.head()"
   ]
  },
  {
   "cell_type": "code",
   "execution_count": null,
   "metadata": {
    "execution": {
     "iopub.execute_input": "2024-06-17T13:37:05.813125Z",
     "iopub.status.busy": "2024-06-17T13:37:05.812771Z",
     "iopub.status.idle": "2024-06-17T13:37:05.830103Z",
     "shell.execute_reply": "2024-06-17T13:37:05.829234Z",
     "shell.execute_reply.started": "2024-06-17T13:37:05.813097Z"
    },
    "trusted": true
   },
   "outputs": [],
   "source": [
    "test_df = pd.read_csv(f'{BASE_PATH}/test.csv')\n",
    "\n",
    "test_df[\"prompt\"] = test_df.prompt.map(lambda x: eval(x)[0])\n",
    "test_df[\"response_a\"] = test_df.response_a.map(lambda x: eval(x.replace(\"null\", \"''\"))[0])\n",
    "test_df[\"response_b\"] = test_df.response_b.map(lambda x: eval(x.replace(\"null\", \"''\"))[0])\n",
    "\n",
    "test_df.head()"
   ]
  },
  {
   "cell_type": "code",
   "execution_count": null,
   "metadata": {
    "execution": {
     "iopub.execute_input": "2024-06-17T13:37:31.411498Z",
     "iopub.status.busy": "2024-06-17T13:37:31.410876Z",
     "iopub.status.idle": "2024-06-17T13:37:37.273745Z",
     "shell.execute_reply": "2024-06-17T13:37:37.272902Z",
     "shell.execute_reply.started": "2024-06-17T13:37:31.411465Z"
    },
    "trusted": true
   },
   "outputs": [],
   "source": [
    "# 基于prompt和response生成选项option\n",
    "def make_pairs(row):\n",
    "    row[\"encode_fail\"] = False\n",
    "    try:\n",
    "        prompt = row.prompt.encode(\"utf-8\").decode(\"utf-8\")\n",
    "    except:\n",
    "        prompt = \"\"\n",
    "        row[\"encode_fail\"] = True\n",
    "\n",
    "    try:\n",
    "        response_a = row.response_a.encode(\"utf-8\").decode(\"utf-8\")\n",
    "    except:\n",
    "        response_a = \"\"\n",
    "        row[\"encode_fail\"] = True\n",
    "\n",
    "    try:\n",
    "        response_b = row.response_b.encode(\"utf-8\").decode(\"utf-8\")\n",
    "    except:\n",
    "        response_b = \"\"\n",
    "        row[\"encode_fail\"] = True\n",
    "\n",
    "    row['options'] = [f\"Prompt: {prompt}\\n\\nResponse: {response_a}\", \n",
    "                      f\"Prompt: {prompt}\\n\\nResponse: {response_b}\"\n",
    "                      ]\n",
    "    return row"
   ]
  },
  {
   "cell_type": "code",
   "execution_count": null,
   "metadata": {
    "execution": {
     "iopub.execute_input": "2024-06-17T13:37:57.719528Z",
     "iopub.status.busy": "2024-06-17T13:37:57.719038Z",
     "iopub.status.idle": "2024-06-17T13:37:57.746049Z",
     "shell.execute_reply": "2024-06-17T13:37:57.745242Z",
     "shell.execute_reply.started": "2024-06-17T13:37:57.719491Z"
    },
    "trusted": true
   },
   "outputs": [],
   "source": [
    "df = df.apply(make_pairs, axis=1)  # 对df的每行数据使用make_pairs函数\n",
    "display(df.head(2))\n",
    "\n",
    "test_df = test_df.apply(make_pairs, axis=1)\n",
    "display(test_df.head(2))"
   ]
  },
  {
   "cell_type": "code",
   "execution_count": null,
   "metadata": {
    "execution": {
     "iopub.execute_input": "2024-06-17T13:38:19.265238Z",
     "iopub.status.busy": "2024-06-17T13:38:19.264905Z",
     "iopub.status.idle": "2024-06-17T13:38:19.290779Z",
     "shell.execute_reply": "2024-06-17T13:38:19.289881Z",
     "shell.execute_reply.started": "2024-06-17T13:38:19.265213Z"
    },
    "trusted": true
   },
   "outputs": [],
   "source": [
    "model_df = pd.concat([df.model_a, df.model_b])\n",
    "counts = model_df.value_counts().reset_index()\n",
    "counts.columns = ['LLM', 'Count']\n",
    "\n",
    "fig = px.bar(counts, x='LLM', y='Count',\n",
    "             title='Distribution of LLMs',\n",
    "             color='Count', color_continuous_scale='viridis')\n",
    "\n",
    "fig.update_layout(xaxis_tickangle=-45)\n",
    "\n",
    "fig.show()"
   ]
  },
  {
   "cell_type": "code",
   "execution_count": null,
   "metadata": {
    "execution": {
     "iopub.execute_input": "2024-06-17T13:38:29.711279Z",
     "iopub.status.busy": "2024-06-17T13:38:29.710899Z",
     "iopub.status.idle": "2024-06-17T13:38:29.739005Z",
     "shell.execute_reply": "2024-06-17T13:38:29.738074Z",
     "shell.execute_reply.started": "2024-06-17T13:38:29.711248Z"
    },
    "trusted": true
   },
   "outputs": [],
   "source": [
    "counts = df['class_name'].value_counts().reset_index()\n",
    "counts.columns = ['Winner', 'Win Count']\n",
    "\n",
    "fig = px.bar(counts, x='Winner', y='Win Count',\n",
    "             title='Winner distribution for Train Data',\n",
    "             labels={'Winner': 'Winner', 'Win Count': 'Win Count'},\n",
    "             color='Winner', color_continuous_scale='viridis')\n",
    "\n",
    "fig.update_layout(xaxis_title=\"Winner\", yaxis_title=\"Win Count\")\n",
    "\n",
    "fig.show()"
   ]
  },
  {
   "cell_type": "code",
   "execution_count": null,
   "metadata": {
    "execution": {
     "iopub.execute_input": "2024-06-17T13:38:35.910782Z",
     "iopub.status.busy": "2024-06-17T13:38:35.909843Z",
     "iopub.status.idle": "2024-06-17T13:38:35.916864Z",
     "shell.execute_reply": "2024-06-17T13:38:35.915811Z",
     "shell.execute_reply.started": "2024-06-17T13:38:35.910748Z"
    },
    "trusted": true
   },
   "outputs": [],
   "source": [
    "from sklearn.model_selection import train_test_split\n",
    "\n",
    "train_df, valid_df = train_test_split(df, test_size=0.2, stratify=df[\"class_label\"])"
   ]
  },
  {
   "cell_type": "code",
   "execution_count": null,
   "metadata": {
    "execution": {
     "iopub.execute_input": "2024-06-17T13:38:46.834403Z",
     "iopub.status.busy": "2024-06-17T13:38:46.833489Z",
     "iopub.status.idle": "2024-06-17T13:38:46.851448Z",
     "shell.execute_reply": "2024-06-17T13:38:46.850670Z",
     "shell.execute_reply.started": "2024-06-17T13:38:46.834360Z"
    },
    "trusted": true
   },
   "outputs": [],
   "source": [
    "preprocessor = keras_nlp.models.DebertaV3Preprocessor.from_preset(\n",
    "    preset=CFG.preset,  # 模型名\n",
    "    sequence_length=CFG.sequence_length,  # 最大序列长度，填充空白\n",
    ")"
   ]
  },
  {
   "cell_type": "code",
   "execution_count": null,
   "metadata": {
    "execution": {
     "iopub.execute_input": "2024-06-17T13:38:55.717309Z",
     "iopub.status.busy": "2024-06-17T13:38:55.716869Z",
     "iopub.status.idle": "2024-06-17T13:38:55.827483Z",
     "shell.execute_reply": "2024-06-17T13:38:55.826599Z",
     "shell.execute_reply.started": "2024-06-17T13:38:55.717281Z"
    },
    "trusted": true
   },
   "outputs": [],
   "source": [
    "outs = preprocessor(df.options.iloc[0])  # 处理第一行的option\n",
    "\n",
    "# 显示每个经处理的输出的形状\n",
    "for k, v in outs.items():\n",
    "    print(k, \":\", v.shape)"
   ]
  },
  {
   "cell_type": "code",
   "execution_count": null,
   "metadata": {
    "execution": {
     "iopub.execute_input": "2024-06-17T13:39:02.728098Z",
     "iopub.status.busy": "2024-06-17T13:39:02.727756Z",
     "iopub.status.idle": "2024-06-17T13:39:02.746507Z",
     "shell.execute_reply": "2024-06-17T13:39:02.745761Z",
     "shell.execute_reply.started": "2024-06-17T13:39:02.728071Z"
    },
    "trusted": true
   },
   "outputs": [],
   "source": [
    "def preprocess_fn(text, label=None):\n",
    "    text = preprocessor(text)  # 预处理文本\n",
    "    return (text, label) if label is not None else text"
   ]
  },
  {
   "cell_type": "code",
   "execution_count": null,
   "metadata": {
    "execution": {
     "iopub.execute_input": "2024-06-17T13:39:10.194312Z",
     "iopub.status.busy": "2024-06-17T13:39:10.193515Z",
     "iopub.status.idle": "2024-06-17T13:39:12.533133Z",
     "shell.execute_reply": "2024-06-17T13:39:12.532299Z",
     "shell.execute_reply.started": "2024-06-17T13:39:10.194280Z"
    },
    "trusted": true
   },
   "outputs": [],
   "source": [
    "def build_dataset(texts, labels=None, batch_size=32,\n",
    "                  cache=True, shuffle=1024):\n",
    "    AUTO = tf.data.AUTOTUNE  # AUTOTUNE option\n",
    "    slices = (texts,) if labels is None else (texts, keras.utils.to_categorical(labels, num_classes=3))  # Create slices\n",
    "    ds = tf.data.Dataset.from_tensor_slices(slices)  #从切片生成数据集\n",
    "    ds = ds.cache() if cache else ds\n",
    "    ds = ds.map(preprocess_fn, num_parallel_calls=AUTO)\n",
    "    opt = tf.data.Options()  # 生成数据集选项\n",
    "    if shuffle:\n",
    "        ds = ds.shuffle(shuffle, seed=CFG.seed)\n",
    "        opt.experimental_deterministic = False\n",
    "    ds = ds.with_options(opt)  # 设置数据集选项\n",
    "    ds = ds.batch(batch_size, drop_remainder=False)\n",
    "    ds = ds.prefetch(AUTO)\n",
    "    return ds"
   ]
  },
  {
   "cell_type": "code",
   "execution_count": null,
   "metadata": {
    "execution": {
     "iopub.execute_input": "2024-06-17T13:39:20.652768Z",
     "iopub.status.busy": "2024-06-17T13:39:20.652273Z",
     "iopub.status.idle": "2024-06-17T13:39:21.324093Z",
     "shell.execute_reply": "2024-06-17T13:39:21.323154Z",
     "shell.execute_reply.started": "2024-06-17T13:39:20.652742Z"
    },
    "trusted": true
   },
   "outputs": [],
   "source": [
    "train_texts = train_df.options.tolist()  # 提取训练文本\n",
    "train_labels = train_df.class_label.tolist()  # 提取训练标签\n",
    "\n",
    "print(train_texts)\n",
    "print(train_labels)\n",
    "\n",
    "train_ds = build_dataset(train_texts, train_labels,\n",
    "                         batch_size=CFG.batch_size,\n",
    "                         shuffle=True)\n",
    "\n",
    "valid_texts = valid_df.options.tolist()  # 提取有效文本\n",
    "valid_labels = valid_df.class_label.tolist()  # 提取有效标签\n",
    "valid_ds = build_dataset(valid_texts, valid_labels,\n",
    "                         batch_size=CFG.batch_size,\n",
    "                         shuffle=False)"
   ]
  },
  {
   "cell_type": "code",
   "execution_count": null,
   "metadata": {
    "execution": {
     "iopub.execute_input": "2024-06-17T13:39:32.196005Z",
     "iopub.status.busy": "2024-06-17T13:39:32.195679Z",
     "iopub.status.idle": "2024-06-17T13:39:33.609647Z",
     "shell.execute_reply": "2024-06-17T13:39:33.608578Z",
     "shell.execute_reply.started": "2024-06-17T13:39:32.195980Z"
    },
    "trusted": true
   },
   "outputs": [],
   "source": [
    "import math\n",
    "\n",
    "\n",
    "def get_lr_callback(batch_size=8, mode='cos', epochs=10, plot=False):\n",
    "    lr_start, lr_max, lr_min = 1.0e-6, 0.6e-6 * batch_size, 1e-6\n",
    "    lr_ramp_ep, lr_sus_ep, lr_decay = 2, 0, 0.8\n",
    "\n",
    "    def lrfn(epoch):  # 学习率更新\n",
    "        if epoch < lr_ramp_ep:\n",
    "            lr = (lr_max - lr_start) / lr_ramp_ep * epoch + lr_start\n",
    "        elif epoch < lr_ramp_ep + lr_sus_ep:\n",
    "            lr = lr_max\n",
    "        elif mode == 'exp':\n",
    "            lr = (lr_max - lr_min) * lr_decay ** (epoch - lr_ramp_ep - lr_sus_ep) + lr_min\n",
    "        elif mode == 'step':\n",
    "            lr = lr_max * lr_decay ** ((epoch - lr_ramp_ep - lr_sus_ep) // 2)\n",
    "        elif mode == 'cos':\n",
    "            decay_total_epochs, decay_epoch_index = epochs - lr_ramp_ep - lr_sus_ep + 3, epoch - lr_ramp_ep - lr_sus_ep\n",
    "            phase = math.pi * decay_epoch_index / decay_total_epochs\n",
    "            lr = (lr_max - lr_min) * 0.5 * (1 + math.cos(phase)) + lr_min\n",
    "        return lr\n",
    "\n",
    "    if plot:  # 绘制学习率曲线\n",
    "        plt.figure(figsize=(10, 5))\n",
    "        plt.plot(np.arange(epochs), [lrfn(epoch) for epoch in np.arange(epochs)], marker='o')\n",
    "        plt.xlabel('epoch')\n",
    "        plt.ylabel('lr')\n",
    "        plt.title('LR Scheduler')\n",
    "        plt.show()\n",
    "\n",
    "    return keras.callbacks.LearningRateScheduler(lrfn, verbose=False)  # 生成lr反馈"
   ]
  },
  {
   "cell_type": "code",
   "execution_count": null,
   "metadata": {
    "execution": {
     "iopub.execute_input": "2024-06-17T13:40:11.897374Z",
     "iopub.status.busy": "2024-06-17T13:40:11.896659Z",
     "iopub.status.idle": "2024-06-17T13:40:13.209923Z",
     "shell.execute_reply": "2024-06-17T13:40:13.209052Z",
     "shell.execute_reply.started": "2024-06-17T13:40:11.897335Z"
    },
    "trusted": true
   },
   "outputs": [],
   "source": [
    "lr_cb = get_lr_callback(CFG.batch_size, plot=True)"
   ]
  },
  {
   "cell_type": "code",
   "execution_count": 31,
   "metadata": {
    "execution": {
     "iopub.execute_input": "2024-06-17T13:40:28.703805Z",
     "iopub.status.busy": "2024-06-17T13:40:28.703260Z",
     "iopub.status.idle": "2024-06-17T13:40:28.717838Z",
     "shell.execute_reply": "2024-06-17T13:40:28.716636Z",
     "shell.execute_reply.started": "2024-06-17T13:40:28.703757Z"
    },
    "trusted": true
   },
   "outputs": [],
   "source": [
    "ckpt_cb = keras.callbacks.ModelCheckpoint(f'best_model.weights.h5',\n",
    "                                          monitor='val_log_loss',\n",
    "                                          save_best_only=True,\n",
    "                                          save_weights_only=True,\n",
    "                                          mode='min')  # 获取模型checkpoints反馈"
   ]
  },
  {
   "cell_type": "code",
   "execution_count": 32,
   "metadata": {
    "execution": {
     "iopub.execute_input": "2024-06-17T13:40:42.552271Z",
     "iopub.status.busy": "2024-06-17T13:40:42.551837Z",
     "iopub.status.idle": "2024-06-17T13:40:42.568145Z",
     "shell.execute_reply": "2024-06-17T13:40:42.567112Z",
     "shell.execute_reply.started": "2024-06-17T13:40:42.552238Z"
    },
    "trusted": true
   },
   "outputs": [],
   "source": [
    "log_loss = keras.metrics.CategoricalCrossentropy(name=\"log_loss\")"
   ]
  },
  {
   "cell_type": "code",
   "execution_count": 33,
   "metadata": {
    "execution": {
     "iopub.execute_input": "2024-06-17T13:40:54.384880Z",
     "iopub.status.busy": "2024-06-17T13:40:54.384485Z",
     "iopub.status.idle": "2024-06-17T13:40:54.411301Z",
     "shell.execute_reply": "2024-06-17T13:40:54.410038Z",
     "shell.execute_reply.started": "2024-06-17T13:40:54.384851Z"
    },
    "trusted": true
   },
   "outputs": [],
   "source": [
    "# 定义输入层\n",
    "inputs = {\n",
    "    \"token_ids\": keras.Input(shape=(2, None), dtype=tf.int32, name=\"token_ids\"),\n",
    "    \"padding_mask\": keras.Input(shape=(2, None), dtype=tf.int32, name=\"padding_mask\"),\n",
    "}\n",
    "backbone = keras_nlp.models.DebertaV3Backbone.from_preset(\n",
    "    CFG.preset,\n",
    ")\n",
    "\n",
    "# 使用主干网为第一个response计算嵌入(P + R_A)\n",
    "response_a = {k: v[:, 0, :] for k, v in inputs.items()}\n",
    "embed_a = backbone(response_a)\n",
    "\n",
    "response_b = {k: v[:, 1, :] for k, v in inputs.items()}\n",
    "embed_b = backbone(response_b)\n",
    "\n",
    "# 计算最终的输出\n",
    "embeds = keras.layers.Concatenate(axis=-1)([embed_a, embed_b])\n",
    "embeds = keras.layers.GlobalAveragePooling1D()(embeds)\n",
    "outputs = keras.layers.Dense(3, activation=\"softmax\", name=\"classifier\")(embeds)\n",
    "model = keras.Model(inputs, outputs)\n",
    "\n",
    "model.compile(\n",
    "    optimizer=keras.optimizers.Adam(5e-6),\n",
    "    loss=keras.losses.CategoricalCrossentropy(label_smoothing=0.02),\n",
    "    metrics=[\n",
    "        log_loss,\n",
    "        keras.metrics.CategoricalAccuracy(name=\"accuracy\"),\n",
    "    ],\n",
    ")"
   ]
  },
  {
   "cell_type": "code",
   "execution_count": 34,
   "metadata": {
    "execution": {
     "iopub.execute_input": "2024-06-17T13:41:08.033172Z",
     "iopub.status.busy": "2024-06-17T13:41:08.032777Z",
     "iopub.status.idle": "2024-06-17T13:41:08.057465Z",
     "shell.execute_reply": "2024-06-17T13:41:08.056312Z",
     "shell.execute_reply.started": "2024-06-17T13:41:08.033139Z"
    },
    "trusted": true
   },
   "outputs": [],
   "source": [
    "model.summary()"
   ]
  },
  {
   "cell_type": "code",
   "execution_count": null,
   "metadata": {
    "trusted": true
   },
   "outputs": [],
   "source": [
    "\n",
    "# 模型训练开始\n",
    "history = model.fit(\n",
    "    train_ds,\n",
    "    epochs=CFG.epochs,\n",
    "    validation_data=valid_ds,\n",
    "    callbacks=[lr_cb, ckpt_cb]\n",
    ")"
   ]
  },
  {
   "cell_type": "code",
   "execution_count": null,
   "metadata": {},
   "outputs": [],
   "source": [
    "\n",
    "model.load_weights('/kaggle/working/best_model.weights.h5')"
   ]
  },
  {
   "cell_type": "code",
   "execution_count": null,
   "metadata": {},
   "outputs": [],
   "source": [
    "\n",
    "# 构建测试数据集\n",
    "test_texts = test_df.options.tolist()\n",
    "test_ds = build_dataset(test_texts,\n",
    "                        batch_size=min(len(test_df), CFG.batch_size),\n",
    "                        shuffle=False)"
   ]
  },
  {
   "cell_type": "code",
   "execution_count": null,
   "metadata": {},
   "outputs": [],
   "source": [
    "\n",
    "# 对预测测试集数据\n",
    "test_preds = model.predict(test_ds, verbose=1)"
   ]
  },
  {
   "cell_type": "code",
   "execution_count": null,
   "metadata": {},
   "outputs": [],
   "source": [
    "sub_df = test_df[[\"id\"]].copy()\n",
    "sub_df[CFG.class_names] = test_preds.tolist()\n",
    "sub_df.to_csv(\"submission.csv\", index=False)\n",
    "sub_df.head()"
   ]
  }
 ],
 "metadata": {
  "kaggle": {
   "accelerator": "nvidiaTeslaT4",
   "dataSources": [
    {
     "datasetId": 5226896,
     "sourceId": 8712654,
     "sourceType": "datasetVersion"
    }
   ],
   "dockerImageVersionId": 30733,
   "isGpuEnabled": true,
   "isInternetEnabled": true,
   "language": "python",
   "sourceType": "notebook"
  },
  "kernelspec": {
   "display_name": "Python 3",
   "language": "python",
   "name": "python3"
  },
  "language_info": {
   "codemirror_mode": {
    "name": "ipython",
    "version": 3
   },
   "file_extension": ".py",
   "mimetype": "text/x-python",
   "name": "python",
   "nbconvert_exporter": "python",
   "pygments_lexer": "ipython3",
   "version": "3.10.13"
  }
 },
 "nbformat": 4,
 "nbformat_minor": 4
}
