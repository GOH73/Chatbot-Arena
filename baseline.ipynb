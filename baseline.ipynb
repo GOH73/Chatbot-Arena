{
 "metadata": {
  "kernelspec": {
   "language": "python",
   "display_name": "Python 3",
   "name": "python3"
  },
  "language_info": {
   "name": "python",
   "version": "3.10.13",
   "mimetype": "text/x-python",
   "codemirror_mode": {
    "name": "ipython",
    "version": 3
   },
   "pygments_lexer": "ipython3",
   "nbconvert_exporter": "python",
   "file_extension": ".py"
  },
  "kaggle": {
   "accelerator": "nvidiaTeslaT4",
   "dataSources": [
    {
     "sourceId": 8712654,
     "sourceType": "datasetVersion",
     "datasetId": 5226896
    }
   ],
   "dockerImageVersionId": 30733,
   "isInternetEnabled": true,
   "language": "python",
   "sourceType": "notebook",
   "isGpuEnabled": true
  }
 },
 "nbformat_minor": 4,
 "nbformat": 4,
 "cells": [
  {
   "cell_type": "code",
   "source": [
    "import os\n",
    "os.environ[\"KERAS_BACKEND\"] = \"torch\"  # or \"tensorflow\" or \"torch\"\n",
    "\n",
    "import keras_nlp\n",
    "import keras\n",
    "import tensorflow as tf\n",
    "\n",
    "import numpy as np \n",
    "import pandas as pd\n",
    "from tqdm import tqdm\n",
    "import json\n",
    "\n",
    "import matplotlib.pyplot as plt\n",
    "import matplotlib as mpl\n",
    "import plotly.express as px"
   ],
   "metadata": {
    "_uuid": "8f2839f25d086af736a60e9eeb907d3b93b6e0e5",
    "_cell_guid": "b1076dfc-b9ad-4769-8c92-a6c4dae69d19",
    "execution": {
     "iopub.status.busy": "2024-06-17T13:26:12.045109Z",
     "iopub.execute_input": "2024-06-17T13:26:12.045552Z",
     "iopub.status.idle": "2024-06-17T13:26:12.050503Z",
     "shell.execute_reply.started": "2024-06-17T13:26:12.045522Z",
     "shell.execute_reply": "2024-06-17T13:26:12.049542Z"
    },
    "trusted": true
   },
   "execution_count": 6,
   "outputs": []
  },
  {
   "cell_type": "code",
   "source": [
    "print(\"TensorFlow:\", tf.__version__)\n",
    "print(\"Keras:\", keras.__version__)\n",
    "print(\"KerasNLP:\", keras_nlp.__version__)"
   ],
   "metadata": {
    "execution": {
     "iopub.status.busy": "2024-06-17T13:26:12.051982Z",
     "iopub.execute_input": "2024-06-17T13:26:12.052276Z",
     "iopub.status.idle": "2024-06-17T13:26:13.095460Z",
     "shell.execute_reply.started": "2024-06-17T13:26:12.052253Z",
     "shell.execute_reply": "2024-06-17T13:26:13.094503Z"
    },
    "trusted": true
   },
   "execution_count": null,
   "outputs": []
  },
  {
   "cell_type": "code",
   "source": [
    "class CFG:\n",
    "    seed = 42  # 随机种子\n",
    "    preset = \"deberta_v3_extra_small_en\" # 预训练的模型\n",
    "    sequence_length = 512  # 输入序列长度\n",
    "    epochs = 3\n",
    "    batch_size = 16\n",
    "    scheduler = 'cosine'  # 学习率调度器\n",
    "    label2name = {0: 'winner_model_a', 1: 'winner_model_b', 2: 'winner_tie'}\n",
    "    name2label = {v:k for k, v in label2name.items()}\n",
    "    class_labels = list(label2name.keys())\n",
    "    class_names = list(label2name.values())"
   ],
   "metadata": {
    "execution": {
     "iopub.status.busy": "2024-06-17T13:26:13.097667Z",
     "iopub.execute_input": "2024-06-17T13:26:13.098050Z",
     "iopub.status.idle": "2024-06-17T13:26:13.106362Z",
     "shell.execute_reply.started": "2024-06-17T13:26:13.098011Z",
     "shell.execute_reply": "2024-06-17T13:26:13.105345Z"
    },
    "trusted": true
   },
   "execution_count": 8,
   "outputs": []
  },
  {
   "cell_type": "code",
   "source": [
    "keras.utils.set_random_seed(CFG.seed)"
   ],
   "metadata": {
    "execution": {
     "iopub.status.busy": "2024-06-17T13:26:13.108599Z",
     "iopub.execute_input": "2024-06-17T13:26:13.109015Z",
     "iopub.status.idle": "2024-06-17T13:26:35.340180Z",
     "shell.execute_reply.started": "2024-06-17T13:26:13.108984Z",
     "shell.execute_reply": "2024-06-17T13:26:35.339237Z"
    },
    "trusted": true
   },
   "execution_count": null,
   "outputs": []
  },
  {
   "cell_type": "code",
   "source": [
    "keras.mixed_precision.set_global_policy(\"mixed_float16\")"
   ],
   "metadata": {
    "execution": {
     "iopub.status.busy": "2024-06-17T13:26:35.341388Z",
     "iopub.execute_input": "2024-06-17T13:26:35.341678Z",
     "iopub.status.idle": "2024-06-17T13:26:35.353765Z",
     "shell.execute_reply.started": "2024-06-17T13:26:35.341653Z",
     "shell.execute_reply": "2024-06-17T13:26:35.352892Z"
    },
    "trusted": true
   },
   "execution_count": 10,
   "outputs": []
  },
  {
   "cell_type": "code",
   "source": [
    "BASE_PATH = './lmsys-chatbot-arena'"
   ],
   "metadata": {
    "execution": {
     "iopub.status.busy": "2024-06-17T13:36:00.266474Z",
     "iopub.execute_input": "2024-06-17T13:36:00.266850Z",
     "iopub.status.idle": "2024-06-17T13:36:03.389739Z",
     "shell.execute_reply.started": "2024-06-17T13:36:00.266822Z",
     "shell.execute_reply": "2024-06-17T13:36:03.388897Z"
    },
    "trusted": true
   },
   "execution_count": null,
   "outputs": []
  },
  {
   "cell_type": "code",
   "source": [
    "df = pd.read_csv(f'{BASE_PATH}/train.csv') \n",
    "\n",
    "# Sample data\n",
    "# df = df.sample(frac=0.10)\n",
    "\n",
    "# 获取第一个提示和他的相关回答\n",
    "df[\"prompt\"] = df.prompt.map(lambda x: eval(x)[0])\n",
    "df[\"response_a\"] = df.response_a.map(lambda x: eval(x.replace(\"null\",\"''\"))[0])\n",
    "df[\"response_b\"] = df.response_b.map(lambda x: eval(x.replace(\"null\", \"''\"))[0])\n",
    "\n",
    "df[\"class_name\"] = df[[\"winner_model_a\", \"winner_model_b\" , \"winner_tie\"]].idxmax(axis=1)\n",
    "df[\"class_label\"] = df.class_name.map(CFG.name2label)\n",
    "\n",
    "df.head()"
   ],
   "metadata": {
    "execution": {
     "iopub.status.busy": "2024-06-17T13:36:56.075710Z",
     "iopub.execute_input": "2024-06-17T13:36:56.076041Z",
     "iopub.status.idle": "2024-06-17T13:36:56.087059Z",
     "shell.execute_reply.started": "2024-06-17T13:36:56.076017Z",
     "shell.execute_reply": "2024-06-17T13:36:56.086085Z"
    },
    "trusted": true
   },
   "execution_count": 17,
   "outputs": []
  },
  {
   "cell_type": "code",
   "source": [
    "test_df = pd.read_csv(f'{BASE_PATH}/test.csv')\n",
    "\n",
    "test_df[\"prompt\"] = test_df.prompt.map(lambda x: eval(x)[0])\n",
    "test_df[\"response_a\"] = test_df.response_a.map(lambda x: eval(x.replace(\"null\",\"''\"))[0])\n",
    "test_df[\"response_b\"] = test_df.response_b.map(lambda x: eval(x.replace(\"null\", \"''\"))[0])\n",
    "\n",
    "test_df.head()"
   ],
   "metadata": {
    "execution": {
     "iopub.status.busy": "2024-06-17T13:37:05.812771Z",
     "iopub.execute_input": "2024-06-17T13:37:05.813125Z",
     "iopub.status.idle": "2024-06-17T13:37:05.830103Z",
     "shell.execute_reply.started": "2024-06-17T13:37:05.813097Z",
     "shell.execute_reply": "2024-06-17T13:37:05.829234Z"
    },
    "trusted": true
   },
   "execution_count": 18,
   "outputs": [
    {
     "execution_count": 18,
     "output_type": "execute_result",
     "data": {
      "text/plain": "       id             model_a              model_b                                             prompt                                         response_a                                         response_b  winner_model_a  winner_model_b  winner_tie  target\n0   30192  gpt-4-1106-preview           gpt-4-0613  [\"Is it morally right to try to have a certain...  [\"The question of whether it is morally right ...  [\"As an AI, I don't have personal beliefs or o...               1               0           0       0\n1   53567           koala-13b           gpt-4-0613  [\"What is the difference between marriage lice...  [\"A marriage license is a legal document that ...  [\"A marriage license and a marriage certificat...               0               1           0       1\n2   65089  gpt-3.5-turbo-0613       mistral-medium  [\"explain function calling. how would you call...  [\"Function calling is the process of invoking ...  [\"Function calling is the process of invoking ...               0               0           1       2\n3   96401    llama-2-13b-chat  mistral-7b-instruct  [\"How can I create a test set for a very rare ...  [\"Creating a test set for a very rare category...  [\"When building a classifier for a very rare c...               1               0           0       0\n4  198779           koala-13b   gpt-3.5-turbo-0314  [\"What is the best way to travel from Tel-Aviv...  [\"The best way to travel from Tel Aviv to Jeru...  [\"The best way to travel from Tel-Aviv to Jeru...               0               1           0       1",
      "text/html": "<div>\n<style scoped>\n    .dataframe tbody tr th:only-of-type {\n        vertical-align: middle;\n    }\n\n    .dataframe tbody tr th {\n        vertical-align: top;\n    }\n\n    .dataframe thead th {\n        text-align: right;\n    }\n</style>\n<table border=\"1\" class=\"dataframe\">\n  <thead>\n    <tr style=\"text-align: right;\">\n      <th></th>\n      <th>id</th>\n      <th>model_a</th>\n      <th>model_b</th>\n      <th>prompt</th>\n      <th>response_a</th>\n      <th>response_b</th>\n      <th>winner_model_a</th>\n      <th>winner_model_b</th>\n      <th>winner_tie</th>\n      <th>target</th>\n    </tr>\n  </thead>\n  <tbody>\n    <tr>\n      <th>0</th>\n      <td>30192</td>\n      <td>gpt-4-1106-preview</td>\n      <td>gpt-4-0613</td>\n      <td>[\"Is it morally right to try to have a certain...</td>\n      <td>[\"The question of whether it is morally right ...</td>\n      <td>[\"As an AI, I don't have personal beliefs or o...</td>\n      <td>1</td>\n      <td>0</td>\n      <td>0</td>\n      <td>0</td>\n    </tr>\n    <tr>\n      <th>1</th>\n      <td>53567</td>\n      <td>koala-13b</td>\n      <td>gpt-4-0613</td>\n      <td>[\"What is the difference between marriage lice...</td>\n      <td>[\"A marriage license is a legal document that ...</td>\n      <td>[\"A marriage license and a marriage certificat...</td>\n      <td>0</td>\n      <td>1</td>\n      <td>0</td>\n      <td>1</td>\n    </tr>\n    <tr>\n      <th>2</th>\n      <td>65089</td>\n      <td>gpt-3.5-turbo-0613</td>\n      <td>mistral-medium</td>\n      <td>[\"explain function calling. how would you call...</td>\n      <td>[\"Function calling is the process of invoking ...</td>\n      <td>[\"Function calling is the process of invoking ...</td>\n      <td>0</td>\n      <td>0</td>\n      <td>1</td>\n      <td>2</td>\n    </tr>\n    <tr>\n      <th>3</th>\n      <td>96401</td>\n      <td>llama-2-13b-chat</td>\n      <td>mistral-7b-instruct</td>\n      <td>[\"How can I create a test set for a very rare ...</td>\n      <td>[\"Creating a test set for a very rare category...</td>\n      <td>[\"When building a classifier for a very rare c...</td>\n      <td>1</td>\n      <td>0</td>\n      <td>0</td>\n      <td>0</td>\n    </tr>\n    <tr>\n      <th>4</th>\n      <td>198779</td>\n      <td>koala-13b</td>\n      <td>gpt-3.5-turbo-0314</td>\n      <td>[\"What is the best way to travel from Tel-Aviv...</td>\n      <td>[\"The best way to travel from Tel Aviv to Jeru...</td>\n      <td>[\"The best way to travel from Tel-Aviv to Jeru...</td>\n      <td>0</td>\n      <td>1</td>\n      <td>0</td>\n      <td>1</td>\n    </tr>\n  </tbody>\n</table>\n</div>"
     },
     "metadata": {}
    }
   ]
  },
  {
   "cell_type": "code",
   "source": [
    "# 定义一个函数，基于提示和选择创造选项\n",
    "def make_pairs(row):\n",
    "    row[\"encode_fail\"] = False\n",
    "    try:\n",
    "        prompt = row.prompt.encode(\"utf-8\").decode(\"utf-8\")\n",
    "    except:\n",
    "        prompt = \"\"\n",
    "        row[\"encode_fail\"] = True\n",
    "\n",
    "    try:\n",
    "        response_a = row.response_a.encode(\"utf-8\").decode(\"utf-8\")\n",
    "    except:\n",
    "        response_a = \"\"\n",
    "        row[\"encode_fail\"] = True\n",
    "\n",
    "    try:\n",
    "        response_b = row.response_b.encode(\"utf-8\").decode(\"utf-8\")\n",
    "    except:\n",
    "        response_b = \"\"\n",
    "        row[\"encode_fail\"] = True\n",
    "        \n",
    "    row['options'] = [f\"Prompt: {prompt}\\n\\nResponse: {response_a}\",  # Response from Model A\n",
    "                      f\"Prompt: {prompt}\\n\\nResponse: {response_b}\"  # Response from Model B\n",
    "                     ]\n",
    "    return row"
   ],
   "metadata": {
    "execution": {
     "iopub.status.busy": "2024-06-17T13:37:31.410876Z",
     "iopub.execute_input": "2024-06-17T13:37:31.411498Z",
     "iopub.status.idle": "2024-06-17T13:37:37.273745Z",
     "shell.execute_reply.started": "2024-06-17T13:37:31.411465Z",
     "shell.execute_reply": "2024-06-17T13:37:37.272902Z"
    },
    "trusted": true
   },
   "execution_count": null,
   "outputs": []
  },
  {
   "cell_type": "code",
   "source": [
    "df = df.apply(make_pairs, axis=1)  # 用make_pairs函数处理df的每行数据\n",
    "display(df.head(2))\n",
    "\n",
    "test_df = test_df.apply(make_pairs, axis=1)\n",
    "display(test_df.head(2))"
   ],
   "metadata": {
    "execution": {
     "iopub.status.busy": "2024-06-17T13:37:57.719038Z",
     "iopub.execute_input": "2024-06-17T13:37:57.719528Z",
     "iopub.status.idle": "2024-06-17T13:37:57.746049Z",
     "shell.execute_reply.started": "2024-06-17T13:37:57.719491Z",
     "shell.execute_reply": "2024-06-17T13:37:57.745242Z"
    },
    "trusted": true
   },
   "execution_count": 20,
   "outputs": [
    {
     "execution_count": 20,
     "output_type": "execute_result",
     "data": {
      "text/plain": "                                            prompt_words  total_prompt_words  prompt_length\n0      [[\"Is, it, morally, right, to, try, to, have, ...                  28            165\n1      [[\"What, is, the, difference, between, marriag...                  35            200\n2      [[\"explain, function, calling., how, would, yo...                   9             60\n3      [[\"How, can, I, create, a, test, set, for, a, ...                  18             87\n4      [[\"What, is, the, best, way, to, travel, from,...                  14             79\n...                                                  ...                 ...            ...\n57472  [[\"A, simple, mnemonic, for, \\u03c0:\\n\\\"How, I...                  26            157\n57473  [[\"In, python,, implement, a, naive, Bayes, wi...                  40            257\n57474  [[\"is, it, unethical, to, work, on, building, ...                  43            273\n57475  [[\"If, a, bait, contains, 0,0025%, bromadiolon...                  20            110\n57476  [[\"three, kids, eat, three, apples, in, three,...                  18             95\n\n[57477 rows x 3 columns]",
      "text/html": "<div>\n<style scoped>\n    .dataframe tbody tr th:only-of-type {\n        vertical-align: middle;\n    }\n\n    .dataframe tbody tr th {\n        vertical-align: top;\n    }\n\n    .dataframe thead th {\n        text-align: right;\n    }\n</style>\n<table border=\"1\" class=\"dataframe\">\n  <thead>\n    <tr style=\"text-align: right;\">\n      <th></th>\n      <th>prompt_words</th>\n      <th>total_prompt_words</th>\n      <th>prompt_length</th>\n    </tr>\n  </thead>\n  <tbody>\n    <tr>\n      <th>0</th>\n      <td>[[\"Is, it, morally, right, to, try, to, have, ...</td>\n      <td>28</td>\n      <td>165</td>\n    </tr>\n    <tr>\n      <th>1</th>\n      <td>[[\"What, is, the, difference, between, marriag...</td>\n      <td>35</td>\n      <td>200</td>\n    </tr>\n    <tr>\n      <th>2</th>\n      <td>[[\"explain, function, calling., how, would, yo...</td>\n      <td>9</td>\n      <td>60</td>\n    </tr>\n    <tr>\n      <th>3</th>\n      <td>[[\"How, can, I, create, a, test, set, for, a, ...</td>\n      <td>18</td>\n      <td>87</td>\n    </tr>\n    <tr>\n      <th>4</th>\n      <td>[[\"What, is, the, best, way, to, travel, from,...</td>\n      <td>14</td>\n      <td>79</td>\n    </tr>\n    <tr>\n      <th>...</th>\n      <td>...</td>\n      <td>...</td>\n      <td>...</td>\n    </tr>\n    <tr>\n      <th>57472</th>\n      <td>[[\"A, simple, mnemonic, for, \\u03c0:\\n\\\"How, I...</td>\n      <td>26</td>\n      <td>157</td>\n    </tr>\n    <tr>\n      <th>57473</th>\n      <td>[[\"In, python,, implement, a, naive, Bayes, wi...</td>\n      <td>40</td>\n      <td>257</td>\n    </tr>\n    <tr>\n      <th>57474</th>\n      <td>[[\"is, it, unethical, to, work, on, building, ...</td>\n      <td>43</td>\n      <td>273</td>\n    </tr>\n    <tr>\n      <th>57475</th>\n      <td>[[\"If, a, bait, contains, 0,0025%, bromadiolon...</td>\n      <td>20</td>\n      <td>110</td>\n    </tr>\n    <tr>\n      <th>57476</th>\n      <td>[[\"three, kids, eat, three, apples, in, three,...</td>\n      <td>18</td>\n      <td>95</td>\n    </tr>\n  </tbody>\n</table>\n<p>57477 rows × 3 columns</p>\n</div>"
     },
     "metadata": {}
    }
   ]
  },
  {
   "cell_type": "code",
   "source": [
    "df.encode_fail.value_counts(normalize=False)"
   ],
   "metadata": {
    "execution": {
     "iopub.status.busy": "2024-06-17T13:38:19.264905Z",
     "iopub.execute_input": "2024-06-17T13:38:19.265238Z",
     "iopub.status.idle": "2024-06-17T13:38:19.290779Z",
     "shell.execute_reply.started": "2024-06-17T13:38:19.265213Z",
     "shell.execute_reply": "2024-06-17T13:38:19.289881Z"
    },
    "trusted": true
   },
   "execution_count": null,
   "outputs": []
  },
  {
   "cell_type": "code",
   "source": [
    "model_df = pd.concat([df.model_a, df.model_b])\n",
    "counts = model_df.value_counts().reset_index()\n",
    "counts.columns = ['LLM', 'Count']\n",
    "\n",
    "# Create a bar plot with custom styling using Plotly\n",
    "fig = px.bar(counts, x='LLM', y='Count',\n",
    "             title='Distribution of LLMs',\n",
    "             color='Count', color_continuous_scale='viridis')\n",
    "\n",
    "fig.update_layout(xaxis_tickangle=-45)  # Rotate x-axis labels for better readability\n",
    "\n",
    "fig.show()"
   ],
   "metadata": {
    "execution": {
     "iopub.status.busy": "2024-06-17T13:38:29.710899Z",
     "iopub.execute_input": "2024-06-17T13:38:29.711279Z",
     "iopub.status.idle": "2024-06-17T13:38:29.739005Z",
     "shell.execute_reply.started": "2024-06-17T13:38:29.711248Z",
     "shell.execute_reply": "2024-06-17T13:38:29.738074Z"
    },
    "trusted": true
   },
   "execution_count": null,
   "outputs": []
  },
  {
   "cell_type": "code",
   "source": [
    "counts = df['class_name'].value_counts().reset_index()\n",
    "counts.columns = ['Winner', 'Win Count']\n",
    "\n",
    "fig = px.bar(counts, x='Winner', y='Win Count',\n",
    "             title='Winner distribution for Train Data',\n",
    "             labels={'Winner': 'Winner', 'Win Count': 'Win Count'},\n",
    "             color='Winner', color_continuous_scale='viridis')\n",
    "\n",
    "fig.update_layout(xaxis_title=\"Winner\", yaxis_title=\"Win Count\")\n",
    "\n",
    "fig.show()"
   ],
   "metadata": {
    "execution": {
     "iopub.status.busy": "2024-06-17T13:38:35.909843Z",
     "iopub.execute_input": "2024-06-17T13:38:35.910782Z",
     "iopub.status.idle": "2024-06-17T13:38:35.916864Z",
     "shell.execute_reply.started": "2024-06-17T13:38:35.910748Z",
     "shell.execute_reply": "2024-06-17T13:38:35.915811Z"
    },
    "trusted": true
   },
   "execution_count": null,
   "outputs": []
  },
  {
   "cell_type": "code",
   "source": [
    "from sklearn.model_selection import train_test_split\n",
    "\n",
    "train_df, valid_df = train_test_split(df, test_size=0.2, stratify=df[\"class_label\"])"
   ],
   "metadata": {
    "execution": {
     "iopub.status.busy": "2024-06-17T13:38:46.833489Z",
     "iopub.execute_input": "2024-06-17T13:38:46.834403Z",
     "iopub.status.idle": "2024-06-17T13:38:46.851448Z",
     "shell.execute_reply.started": "2024-06-17T13:38:46.834360Z",
     "shell.execute_reply": "2024-06-17T13:38:46.850670Z"
    },
    "trusted": true
   },
   "execution_count": null,
   "outputs": []
  },
  {
   "cell_type": "code",
   "source": [
    "preprocessor = keras_nlp.models.DebertaV3Preprocessor.from_preset(\n",
    "    preset=CFG.preset,\n",
    "    sequence_length=CFG.sequence_length, # 设置最大序列长度，如果小于这个长度则自动填充\n",
    ")"
   ],
   "metadata": {
    "execution": {
     "iopub.status.busy": "2024-06-17T13:38:55.716869Z",
     "iopub.execute_input": "2024-06-17T13:38:55.717309Z",
     "iopub.status.idle": "2024-06-17T13:38:55.827483Z",
     "shell.execute_reply.started": "2024-06-17T13:38:55.717281Z",
     "shell.execute_reply": "2024-06-17T13:38:55.826599Z"
    },
    "trusted": true
   },
   "execution_count": null,
   "outputs": []
  },
  {
   "cell_type": "code",
   "source": [
    "outs = preprocessor(df.options.iloc[0])  # Process options for the first row\n",
    "\n",
    "# Display the shape of each processed output\n",
    "for k, v in outs.items():\n",
    "    print(k, \":\", v.shape)"
   ],
   "metadata": {
    "execution": {
     "iopub.status.busy": "2024-06-17T13:39:02.727756Z",
     "iopub.execute_input": "2024-06-17T13:39:02.728098Z",
     "iopub.status.idle": "2024-06-17T13:39:02.746507Z",
     "shell.execute_reply.started": "2024-06-17T13:39:02.728071Z",
     "shell.execute_reply": "2024-06-17T13:39:02.745761Z"
    },
    "trusted": true
   },
   "execution_count": null,
   "outputs": []
  },
  {
   "cell_type": "code",
   "source": [
    "def preprocess_fn(text, label=None):\n",
    "    text = preprocessor(text)  # Preprocess text\n",
    "    return (text, label) if label is not None else text  # Return processed text and label if available"
   ],
   "metadata": {
    "execution": {
     "iopub.status.busy": "2024-06-17T13:39:10.193515Z",
     "iopub.execute_input": "2024-06-17T13:39:10.194312Z",
     "iopub.status.idle": "2024-06-17T13:39:12.533133Z",
     "shell.execute_reply.started": "2024-06-17T13:39:10.194280Z",
     "shell.execute_reply": "2024-06-17T13:39:12.532299Z"
    },
    "trusted": true
   },
   "execution_count": null,
   "outputs": []
  },
  {
   "cell_type": "code",
   "source": [
    "def build_dataset(texts, labels=None, batch_size=32,\n",
    "                  cache=True, shuffle=1024):\n",
    "    AUTO = tf.data.AUTOTUNE\n",
    "    slices = (texts,) if labels is None else (texts, keras.utils.to_categorical(labels, num_classes=3))  # 切片\n",
    "    ds = tf.data.Dataset.from_tensor_slices(slices)  # 从切片中构建数据集\n",
    "    ds = ds.cache() if cache else ds  # 缓存数据集\n",
    "    ds = ds.map(preprocess_fn, num_parallel_calls=AUTO)  # Map preprocessing function\n",
    "    opt = tf.data.Options()  # 构建数据集选项\n",
    "    if shuffle: \n",
    "        ds = ds.shuffle(shuffle, seed=CFG.seed)  # 打乱数据集\n",
    "        opt.experimental_deterministic = False\n",
    "    ds = ds.with_options(opt)  # Set dataset options\n",
    "    ds = ds.batch(batch_size, drop_remainder=False)  # Batch dataset\n",
    "    ds = ds.prefetch(AUTO)  # Prefetch next batch\n",
    "    return ds  # Return the built dataset"
   ],
   "metadata": {
    "execution": {
     "iopub.status.busy": "2024-06-17T13:39:20.652273Z",
     "iopub.execute_input": "2024-06-17T13:39:20.652768Z",
     "iopub.status.idle": "2024-06-17T13:39:21.324093Z",
     "shell.execute_reply.started": "2024-06-17T13:39:20.652742Z",
     "shell.execute_reply": "2024-06-17T13:39:21.323154Z"
    },
    "trusted": true
   },
   "execution_count": null,
   "outputs": []
  },
  {
   "cell_type": "code",
   "source": [
    "# ====================================================\n",
    "# Check max length - response_a\n",
    "# ====================================================\n",
    "lengths = []\n",
    "tk0 = tqdm(train['response_a'].fillna(\"\").values, total=len(train))\n",
    "for text in tk0:\n",
    "    length = len(tokenizer(text, add_special_tokens=False)['input_ids'])\n",
    "    lengths.append(length)\n",
    "#CFG.max_len = max(lengths) + 3 # cls & sep & sep\n",
    "LOGGER.info(f\"max_len: {CFG.max_len}\")\n",
    "_ = plt.hist(lengths, bins=10)"
   ],
   "metadata": {
    "execution": {
     "iopub.status.busy": "2024-06-17T13:39:32.195679Z",
     "iopub.execute_input": "2024-06-17T13:39:32.196005Z",
     "iopub.status.idle": "2024-06-17T13:39:33.609647Z",
     "shell.execute_reply.started": "2024-06-17T13:39:32.195980Z",
     "shell.execute_reply": "2024-06-17T13:39:33.608578Z"
    },
    "trusted": true
   },
   "execution_count": 29,
   "outputs": [
    {
     "output_type": "display_data",
     "data": {
      "text/plain": "  0%|          | 0/1000 [00:00<?, ?it/s]",
      "application/vnd.jupyter.widget-view+json": {
       "version_major": 2,
       "version_minor": 0,
       "model_id": "5ac18efa379847bca44ae1fe9889c132"
      }
     },
     "metadata": {}
    },
    {
     "name": "stderr",
     "text": "max_len: 1024\n",
     "output_type": "stream"
    },
    {
     "output_type": "display_data",
     "data": {
      "text/plain": "<Figure size 640x480 with 1 Axes>",
      "image/png": "[encoded data removed]"
     },
     "metadata": {}
    }
   ]
  },
  {
   "cell_type": "code",
   "source": [
    "# ====================================================\n",
    "# Check max length - response_b\n",
    "# ====================================================\n",
    "lengths = []\n",
    "tk0 = tqdm(train['response_b'].fillna(\"\").values, total=len(train))\n",
    "for text in tk0:\n",
    "    length = len(tokenizer(text, add_special_tokens=False)['input_ids'])\n",
    "    lengths.append(length)\n",
    "#CFG.max_len = max(lengths) + 3 # cls & sep & sep\n",
    "LOGGER.info(f\"max_len: {CFG.max_len}\")\n",
    "_ = plt.hist(lengths, bins=10)"
   ],
   "metadata": {
    "execution": {
     "iopub.status.busy": "2024-06-17T13:40:11.896659Z",
     "iopub.execute_input": "2024-06-17T13:40:11.897374Z",
     "iopub.status.idle": "2024-06-17T13:40:13.209923Z",
     "shell.execute_reply.started": "2024-06-17T13:40:11.897335Z",
     "shell.execute_reply": "2024-06-17T13:40:13.209052Z"
    },
    "trusted": true
   },
   "execution_count": 30,
   "outputs": [
    {
     "output_type": "display_data",
     "data": {
      "text/plain": "  0%|          | 0/1000 [00:00<?, ?it/s]",
      "application/vnd.jupyter.widget-view+json": {
       "version_major": 2,
       "version_minor": 0,
       "model_id": "f96a88aa7ca7442a9918e2d9d2fe26a5"
      }
     },
     "metadata": {}
    },
    {
     "name": "stderr",
     "text": "max_len: 1024\n",
     "output_type": "stream"
    },
    {
     "output_type": "display_data",
     "data": {
      "text/plain": "<Figure size 640x480 with 1 Axes>",
      "image/png": "[encoded data removed]"
     },
     "metadata": {}
    }
   ]
  },
  {
   "cell_type": "code",
   "source": [
    "# ====================================================\n",
    "# Dataset\n",
    "# ====================================================\n",
    "def prepare_input(cfg, text):\n",
    "    inputs = cfg.tokenizer.encode_plus(\n",
    "        text, \n",
    "        return_tensors=None, \n",
    "        add_special_tokens=True, \n",
    "        max_length=CFG.max_len,\n",
    "        pad_to_max_length=True,\n",
    "        truncation=True\n",
    "    )\n",
    "    for k, v in inputs.items():\n",
    "        inputs[k] = torch.tensor(v, dtype=torch.long)\n",
    "    return inputs\n",
    "\n",
    "\n",
    "class TrainDataset(Dataset):\n",
    "    def __init__(self, cfg, df):\n",
    "        self.cfg = cfg\n",
    "        self.texts = df['prompt'].values # only use prompt, please feel free add other texts\n",
    "        self.labels = df[cfg.target_label].values.squeeze().tolist()\n",
    "\n",
    "    def __len__(self):\n",
    "        return len(self.texts)\n",
    "\n",
    "    def __getitem__(self, item):\n",
    "        inputs = prepare_input(self.cfg, self.texts[item])\n",
    "        label = torch.tensor(self.labels[item], dtype=torch.long)\n",
    "        return inputs, label\n",
    "    \n",
    "    \n",
    "def collate(inputs):\n",
    "    mask_len = int(inputs[\"attention_mask\"].sum(axis=1).max())\n",
    "    for k, v in inputs.items():\n",
    "        inputs[k] = inputs[k][:,:mask_len]\n",
    "    return inputs"
   ],
   "metadata": {
    "execution": {
     "iopub.status.busy": "2024-06-17T13:40:28.703260Z",
     "iopub.execute_input": "2024-06-17T13:40:28.703805Z",
     "iopub.status.idle": "2024-06-17T13:40:28.717838Z",
     "shell.execute_reply.started": "2024-06-17T13:40:28.703757Z",
     "shell.execute_reply": "2024-06-17T13:40:28.716636Z"
    },
    "trusted": true
   },
   "execution_count": 31,
   "outputs": []
  },
  {
   "cell_type": "code",
   "source": [
    "# ====================================================\n",
    "# Model\n",
    "# ====================================================\n",
    "class MeanPooling(nn.Module):\n",
    "    def __init__(self):\n",
    "        super(MeanPooling, self).__init__()\n",
    "        \n",
    "    def forward(self, last_hidden_state, attention_mask):\n",
    "        input_mask_expanded = attention_mask.unsqueeze(-1).expand(last_hidden_state.size()).float()\n",
    "        sum_embeddings = torch.sum(last_hidden_state * input_mask_expanded, 1)\n",
    "        sum_mask = input_mask_expanded.sum(1)\n",
    "        sum_mask = torch.clamp(sum_mask, min=1e-9)\n",
    "        mean_embeddings = sum_embeddings / sum_mask\n",
    "        return mean_embeddings\n",
    "    \n",
    "\n",
    "class CustomModel(nn.Module):\n",
    "    def __init__(self, cfg, config_path=None, pretrained=False):\n",
    "        super().__init__()\n",
    "        self.cfg = cfg\n",
    "        if config_path is None:\n",
    "            self.config = AutoConfig.from_pretrained(cfg.model, output_hidden_states=True)\n",
    "            self.config.hidden_dropout = 0.\n",
    "            self.config.hidden_dropout_prob = 0.\n",
    "            self.config.attention_dropout = 0.\n",
    "            self.config.attention_probs_dropout_prob = 0.\n",
    "            LOGGER.info(self.config)\n",
    "        else:\n",
    "            self.config = torch.load(config_path)\n",
    "        if pretrained:\n",
    "            self.model = AutoModel.from_pretrained(cfg.model, config=self.config)\n",
    "        else:\n",
    "            self.model = AutoModel(self.config)\n",
    "        if self.cfg.gradient_checkpointing:\n",
    "            self.model.gradient_checkpointing_enable()\n",
    "        self.pool = MeanPooling()\n",
    "        self.fc = nn.Linear(self.config.hidden_size, 3)\n",
    "        self._init_weights(self.fc)\n",
    "        \n",
    "    def _init_weights(self, module):\n",
    "        if isinstance(module, nn.Linear):\n",
    "            module.weight.data.normal_(mean=0.0, std=self.config.initializer_range)\n",
    "            if module.bias is not None:\n",
    "                module.bias.data.zero_()\n",
    "        elif isinstance(module, nn.Embedding):\n",
    "            module.weight.data.normal_(mean=0.0, std=self.config.initializer_range)\n",
    "            if module.padding_idx is not None:\n",
    "                module.weight.data[module.padding_idx].zero_()\n",
    "        elif isinstance(module, nn.LayerNorm):\n",
    "            module.bias.data.zero_()\n",
    "            module.weight.data.fill_(1.0)\n",
    "        \n",
    "    def feature(self, inputs):\n",
    "        outputs = self.model(**inputs)\n",
    "        last_hidden_states = outputs[0]\n",
    "        feature = self.pool(last_hidden_states, inputs['attention_mask'])\n",
    "        return feature\n",
    "\n",
    "    def forward(self, inputs):\n",
    "        feature = self.feature(inputs)\n",
    "        output = self.fc(feature)\n",
    "        return output"
   ],
   "metadata": {
    "execution": {
     "iopub.status.busy": "2024-06-17T13:40:42.551837Z",
     "iopub.execute_input": "2024-06-17T13:40:42.552271Z",
     "iopub.status.idle": "2024-06-17T13:40:42.568145Z",
     "shell.execute_reply.started": "2024-06-17T13:40:42.552238Z",
     "shell.execute_reply": "2024-06-17T13:40:42.567112Z"
    },
    "trusted": true
   },
   "execution_count": 32,
   "outputs": []
  },
  {
   "cell_type": "code",
   "source": [
    "# ====================================================\n",
    "# Helper functions\n",
    "# ====================================================\n",
    "class AverageMeter(object):\n",
    "    \"\"\"Computes and stores the average and current value\"\"\"\n",
    "    def __init__(self):\n",
    "        self.reset()\n",
    "\n",
    "    def reset(self):\n",
    "        self.val = 0\n",
    "        self.avg = 0\n",
    "        self.sum = 0\n",
    "        self.count = 0\n",
    "\n",
    "    def update(self, val, n=1):\n",
    "        self.val = val\n",
    "        self.sum += val * n\n",
    "        self.count += n\n",
    "        self.avg = self.sum / self.count\n",
    "\n",
    "\n",
    "def asMinutes(s):\n",
    "    m = math.floor(s / 60)\n",
    "    s -= m * 60\n",
    "    return '%dm %ds' % (m, s)\n",
    "\n",
    "\n",
    "def timeSince(since, percent):\n",
    "    now = time.time()\n",
    "    s = now - since\n",
    "    es = s / (percent)\n",
    "    rs = es - s\n",
    "    return '%s (remain %s)' % (asMinutes(s), asMinutes(rs))\n",
    "\n",
    "\n",
    "def train_fn(fold, train_loader, model, criterion, optimizer, epoch, scheduler, device):\n",
    "    model.train()\n",
    "    scaler = torch.cuda.amp.GradScaler(enabled=CFG.apex)\n",
    "    losses = AverageMeter()\n",
    "    start = end = time.time()\n",
    "    global_step = 0\n",
    "    for step, (inputs, labels) in enumerate(train_loader):\n",
    "        inputs = collate(inputs)\n",
    "        for k, v in inputs.items():\n",
    "            inputs[k] = v.to(device)\n",
    "        labels = labels.to(device)\n",
    "        batch_size = labels.size(0)\n",
    "        with torch.cuda.amp.autocast(enabled=CFG.apex):\n",
    "            y_preds = model(inputs)\n",
    "            loss = criterion(y_preds, labels)\n",
    "        if CFG.gradient_accumulation_steps > 1:\n",
    "            loss = loss / CFG.gradient_accumulation_steps\n",
    "        losses.update(loss.item(), batch_size)\n",
    "        scaler.scale(loss).backward()\n",
    "        grad_norm = torch.nn.utils.clip_grad_norm_(model.parameters(), CFG.max_grad_norm)\n",
    "        if (step + 1) % CFG.gradient_accumulation_steps == 0:\n",
    "            scaler.step(optimizer)\n",
    "            scaler.update()\n",
    "            optimizer.zero_grad()\n",
    "            global_step += 1\n",
    "            if CFG.batch_scheduler:\n",
    "                scheduler.step()\n",
    "        end = time.time()\n",
    "        if step % CFG.print_freq == 0 or step == (len(train_loader)-1):\n",
    "            print('Epoch: [{0}][{1}/{2}] '\n",
    "                  'Elapsed {remain:s} '\n",
    "                  'Loss: {loss.val:.4f}({loss.avg:.4f}) '\n",
    "                  'Grad: {grad_norm:.4f}  '\n",
    "                  'LR: {lr:.8f}  '\n",
    "                  .format(epoch+1, step, len(train_loader), \n",
    "                          remain=timeSince(start, float(step+1)/len(train_loader)),\n",
    "                          loss=losses,\n",
    "                          grad_norm=grad_norm,\n",
    "                          lr=scheduler.get_lr()[0]))\n",
    "    return losses.avg\n",
    "\n",
    "\n",
    "def valid_fn(valid_loader, model, criterion, device):\n",
    "    losses = AverageMeter()\n",
    "    model.eval()\n",
    "    preds = []\n",
    "    start = end = time.time()\n",
    "    for step, (inputs, labels) in enumerate(valid_loader):\n",
    "        inputs = collate(inputs)\n",
    "        for k, v in inputs.items():\n",
    "            inputs[k] = v.to(device)\n",
    "        labels = labels.to(device)\n",
    "        batch_size = labels.size(0)\n",
    "        with torch.no_grad():\n",
    "            y_preds = model(inputs)\n",
    "            loss = criterion(y_preds, labels)\n",
    "        if CFG.gradient_accumulation_steps > 1:\n",
    "            loss = loss / CFG.gradient_accumulation_steps\n",
    "        losses.update(loss.item(), batch_size)\n",
    "        preds.append(y_preds.softmax(1).to('cpu').numpy())\n",
    "        end = time.time()\n",
    "        if step % CFG.print_freq == 0 or step == (len(valid_loader)-1):\n",
    "            print('EVAL: [{0}/{1}] '\n",
    "                  'Elapsed {remain:s} '\n",
    "                  'Loss: {loss.val:.4f}({loss.avg:.4f}) '\n",
    "                  .format(step, len(valid_loader),\n",
    "                          loss=losses,\n",
    "                          remain=timeSince(start, float(step+1)/len(valid_loader))))\n",
    "    predictions = np.concatenate(preds)\n",
    "    return losses.avg, predictions"
   ],
   "metadata": {
    "execution": {
     "iopub.status.busy": "2024-06-17T13:40:54.384485Z",
     "iopub.execute_input": "2024-06-17T13:40:54.384880Z",
     "iopub.status.idle": "2024-06-17T13:40:54.411301Z",
     "shell.execute_reply.started": "2024-06-17T13:40:54.384851Z",
     "shell.execute_reply": "2024-06-17T13:40:54.410038Z"
    },
    "trusted": true
   },
   "execution_count": 33,
   "outputs": []
  },
  {
   "cell_type": "code",
   "source": [
    "# ====================================================\n",
    "# train loop\n",
    "# ====================================================\n",
    "def train_loop(folds, fold):\n",
    "    \n",
    "    LOGGER.info(f\"========== fold: {fold} training ==========\")\n",
    "\n",
    "    # ====================================================\n",
    "    # loader\n",
    "    # ====================================================\n",
    "    train_folds = folds[folds['fold'] != fold].reset_index(drop=True)\n",
    "    valid_folds = folds[folds['fold'] == fold].reset_index(drop=True)\n",
    "    valid_labels = valid_folds[CFG.target_label].values\n",
    "    \n",
    "    train_dataset = TrainDataset(CFG, train_folds)\n",
    "    valid_dataset = TrainDataset(CFG, valid_folds)\n",
    "\n",
    "    train_loader = DataLoader(train_dataset,\n",
    "                              batch_size=CFG.batch_size,\n",
    "                              shuffle=True,\n",
    "                              num_workers=CFG.num_workers, pin_memory=True, drop_last=True)\n",
    "    valid_loader = DataLoader(valid_dataset,\n",
    "                              batch_size=CFG.batch_size * 2,\n",
    "                              shuffle=False,\n",
    "                              num_workers=CFG.num_workers, pin_memory=True, drop_last=False)\n",
    "\n",
    "    # ====================================================\n",
    "    # model & optimizer\n",
    "    # ====================================================\n",
    "    model = CustomModel(CFG, config_path=None, pretrained=True)\n",
    "    torch.save(model.config, OUTPUT_DIR+'config.pth')\n",
    "    model.to(device)\n",
    "    \n",
    "    def get_optimizer_params(model, encoder_lr, decoder_lr, weight_decay=0.0):\n",
    "        param_optimizer = list(model.named_parameters())\n",
    "        no_decay = [\"bias\", \"LayerNorm.bias\", \"LayerNorm.weight\"]\n",
    "        optimizer_parameters = [\n",
    "            {'params': [p for n, p in model.model.named_parameters() if not any(nd in n for nd in no_decay)],\n",
    "             'lr': encoder_lr, 'weight_decay': weight_decay},\n",
    "            {'params': [p for n, p in model.model.named_parameters() if any(nd in n for nd in no_decay)],\n",
    "             'lr': encoder_lr, 'weight_decay': 0.0},\n",
    "            {'params': [p for n, p in model.named_parameters() if \"model\" not in n],\n",
    "             'lr': decoder_lr, 'weight_decay': 0.0}\n",
    "        ]\n",
    "        return optimizer_parameters\n",
    "\n",
    "    optimizer_parameters = get_optimizer_params(model,\n",
    "                                                encoder_lr=CFG.encoder_lr, \n",
    "                                                decoder_lr=CFG.decoder_lr,\n",
    "                                                weight_decay=CFG.weight_decay)\n",
    "    optimizer = AdamW(optimizer_parameters, lr=CFG.encoder_lr, eps=CFG.eps, betas=CFG.betas)\n",
    "    \n",
    "    # ====================================================\n",
    "    # scheduler\n",
    "    # ====================================================\n",
    "    def get_scheduler(cfg, optimizer, num_train_steps):\n",
    "        if cfg.scheduler == 'linear':\n",
    "            scheduler = get_linear_schedule_with_warmup(\n",
    "                optimizer, num_warmup_steps=cfg.num_warmup_steps, num_training_steps=num_train_steps\n",
    "            )\n",
    "        elif cfg.scheduler == 'cosine':\n",
    "            scheduler = get_cosine_schedule_with_warmup(\n",
    "                optimizer, num_warmup_steps=cfg.num_warmup_steps, num_training_steps=num_train_steps, num_cycles=cfg.num_cycles\n",
    "            )\n",
    "        return scheduler\n",
    "    \n",
    "    num_train_steps = int(len(train_folds) / CFG.batch_size * CFG.epochs)\n",
    "    scheduler = get_scheduler(CFG, optimizer, num_train_steps)\n",
    "\n",
    "    # ====================================================\n",
    "    # loop\n",
    "    # ====================================================\n",
    "    criterion = nn.CrossEntropyLoss()\n",
    "    \n",
    "    best_score = np.inf\n",
    "\n",
    "    for epoch in range(CFG.epochs):\n",
    "\n",
    "        start_time = time.time()\n",
    "\n",
    "        # train\n",
    "        avg_loss = train_fn(fold, train_loader, model, criterion, optimizer, epoch, scheduler, device)\n",
    "\n",
    "        # eval\n",
    "        avg_val_loss, predictions = valid_fn(valid_loader, model, criterion, device)\n",
    "        \n",
    "        # scoring\n",
    "        score = get_score(valid_labels, predictions)\n",
    "\n",
    "        elapsed = time.time() - start_time\n",
    "\n",
    "        LOGGER.info(f'Epoch {epoch+1} - avg_train_loss: {avg_loss:.4f}  avg_val_loss: {avg_val_loss:.4f}  time: {elapsed:.0f}s')\n",
    "        LOGGER.info(f'Epoch {epoch+1} - Score: {score:.4f}')\n",
    "        if CFG.wandb:\n",
    "            wandb.log({f\"[fold{fold}] epoch\": epoch+1, \n",
    "                       f\"[fold{fold}] avg_train_loss\": avg_loss, \n",
    "                       f\"[fold{fold}] avg_val_loss\": avg_val_loss,\n",
    "                       f\"[fold{fold}] score\": score})\n",
    "        \n",
    "        if best_score > score:\n",
    "            best_score = score\n",
    "            LOGGER.info(f'Epoch {epoch+1} - Save Best Score: {best_score:.4f} Model')\n",
    "            torch.save({'model': model.state_dict(),\n",
    "                        'predictions': predictions},\n",
    "                        OUTPUT_DIR+f\"{CFG.model.replace('/', '-')}_fold{fold}_best.pth\")\n",
    "\n",
    "    predictions = torch.load(OUTPUT_DIR+f\"{CFG.model.replace('/', '-')}_fold{fold}_best.pth\", \n",
    "                             map_location=torch.device('cpu'))['predictions']\n",
    "    valid_folds[[f\"pred_{c}\" for c in CFG.target_cols]] = predictions\n",
    "\n",
    "    torch.cuda.empty_cache()\n",
    "    gc.collect()\n",
    "    \n",
    "    return valid_folds"
   ],
   "metadata": {
    "execution": {
     "iopub.status.busy": "2024-06-17T13:41:08.032777Z",
     "iopub.execute_input": "2024-06-17T13:41:08.033172Z",
     "iopub.status.idle": "2024-06-17T13:41:08.057465Z",
     "shell.execute_reply.started": "2024-06-17T13:41:08.033139Z",
     "shell.execute_reply": "2024-06-17T13:41:08.056312Z"
    },
    "trusted": true
   },
   "execution_count": 34,
   "outputs": []
  },
  {
   "cell_type": "code",
   "source": [
    "if __name__ == '__main__':\n",
    "    \n",
    "    def get_result(oof_df):\n",
    "        labels = oof_df[CFG.target_cols].values\n",
    "        labels = np.argmax(labels, axis=1)\n",
    "        preds = oof_df[[f\"pred_{c}\" for c in CFG.target_cols]].values\n",
    "        score = get_score(labels, preds)\n",
    "        LOGGER.info(f'Score: {score:<.4f}')\n",
    "    \n",
    "    if CFG.train:\n",
    "        oof_df = pd.DataFrame()\n",
    "        for fold in range(CFG.n_fold):\n",
    "            if fold in CFG.trn_fold:\n",
    "                _oof_df = train_loop(train, fold)\n",
    "                oof_df = pd.concat([oof_df, _oof_df])\n",
    "                LOGGER.info(f\"========== fold: {fold} result ==========\")\n",
    "                get_result(_oof_df)\n",
    "        oof_df = oof_df.reset_index(drop=True)\n",
    "        LOGGER.info(f\"========== CV ==========\")\n",
    "        get_result(oof_df)\n",
    "        oof_df.to_pickle(OUTPUT_DIR+'oof_df.pkl')\n",
    "        \n",
    "    if CFG.wandb:\n",
    "        wandb.finish()"
   ],
   "metadata": {
    "execution": {
     "iopub.status.busy": "2024-06-17T13:41:20.630268Z",
     "iopub.execute_input": "2024-06-17T13:41:20.630649Z"
    },
    "trusted": true
   },
   "execution_count": null,
   "outputs": [
    {
     "name": "stderr",
     "text": "========== fold: 0 training ==========\nDebertaV2Config {\n  \"_name_or_path\": \"microsoft/deberta-v3-xsmall\",\n  \"attention_dropout\": 0.0,\n  \"attention_probs_dropout_prob\": 0.0,\n  \"hidden_act\": \"gelu\",\n  \"hidden_dropout\": 0.0,\n  \"hidden_dropout_prob\": 0.0,\n  \"hidden_size\": 384,\n  \"initializer_range\": 0.02,\n  \"intermediate_size\": 1536,\n  \"layer_norm_eps\": 1e-07,\n  \"max_position_embeddings\": 512,\n  \"max_relative_positions\": -1,\n  \"model_type\": \"deberta-v2\",\n  \"norm_rel_ebd\": \"layer_norm\",\n  \"num_attention_heads\": 6,\n  \"num_hidden_layers\": 12,\n  \"output_hidden_states\": true,\n  \"pad_token_id\": 0,\n  \"pooler_dropout\": 0,\n  \"pooler_hidden_act\": \"gelu\",\n  \"pooler_hidden_size\": 384,\n  \"pos_att_type\": [\n    \"p2c\",\n    \"c2p\"\n  ],\n  \"position_biased_input\": false,\n  \"position_buckets\": 256,\n  \"relative_attention\": true,\n  \"share_att_key\": true,\n  \"transformers_version\": \"4.41.2\",\n  \"type_vocab_size\": 0,\n  \"vocab_size\": 128100\n}\n\n",
     "output_type": "stream"
    },
    {
     "output_type": "display_data",
     "data": {
      "text/plain": "pytorch_model.bin:   0%|          | 0.00/241M [00:00<?, ?B/s]",
      "application/vnd.jupyter.widget-view+json": {
       "version_major": 2,
       "version_minor": 0,
       "model_id": "a0aab63b890947aca8a06abe73e63e26"
      }
     },
     "metadata": {}
    },
    {
     "name": "stdout",
     "text": "Epoch: [1][0/185] Elapsed 0m 1s (remain 4m 55s) Loss: 1.1532(1.1532) Grad: inf  LR: 0.00002000  \nEpoch: [1][20/185] Elapsed 0m 4s (remain 0m 34s) Loss: 0.9724(1.1380) Grad: 37687.7734  LR: 0.00001984  \nEpoch: [1][40/185] Elapsed 0m 7s (remain 0m 26s) Loss: 1.1456(1.1208) Grad: 36224.8867  LR: 0.00001940  \n",
     "output_type": "stream"
    }
   ]
  },
  {
   "cell_type": "code",
   "source": [
    "kaggle kernels output piantic/train-lmsys-deberta-v3-starter-code -p /path/to/dest"
   ],
   "metadata": {
    "trusted": true
   },
   "execution_count": null,
   "outputs": []
  }
 ]
}
